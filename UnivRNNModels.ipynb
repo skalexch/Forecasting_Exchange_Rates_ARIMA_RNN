{
  "nbformat": 4,
  "nbformat_minor": 0,
  "metadata": {
    "colab": {
      "name": "UnivRNNModels.ipynb",
      "provenance": [],
      "collapsed_sections": []
    },
    "kernelspec": {
      "name": "python3",
      "display_name": "Python 3"
    }
  },
  "cells": [
    {
      "cell_type": "markdown",
      "metadata": {
        "id": "iOUcR3P_T5to"
      },
      "source": [
        "## 1) Importing libraries"
      ]
    },
    {
      "cell_type": "code",
      "metadata": {
        "id": "KsTYD-aBT6pO"
      },
      "source": [
        "#pip install Keras==2.3.1 tensorflow==2.1.0"
      ],
      "execution_count": null,
      "outputs": []
    },
    {
      "cell_type": "code",
      "metadata": {
        "id": "rIC6C4UrTx0a"
      },
      "source": [
        "import pandas as pd\n",
        "import matplotlib.pyplot as plt\n",
        "import numpy as np\n",
        "import seaborn as sns\n",
        "sns.set_style(\"whitegrid\")\n",
        "sns.set_palette(\"GnBu_d\")"
      ],
      "execution_count": null,
      "outputs": []
    },
    {
      "cell_type": "markdown",
      "metadata": {
        "id": "a4gqS1JfUAn8"
      },
      "source": [
        "## 2) Data Preparation"
      ]
    },
    {
      "cell_type": "code",
      "metadata": {
        "id": "GRQ6PTGjSUqr"
      },
      "source": [
        "eurtnd=pd.read_csv(\"/content/drive/My Drive/eurtnd.csv\")"
      ],
      "execution_count": null,
      "outputs": []
    },
    {
      "cell_type": "code",
      "metadata": {
        "id": "UgHCB4gNs2hC"
      },
      "source": [
        "eurtnd.dropna(inplace=True)"
      ],
      "execution_count": null,
      "outputs": []
    },
    {
      "cell_type": "code",
      "metadata": {
        "id": "XoJ5klNGYbah",
        "colab": {
          "base_uri": "https://localhost:8080/",
          "height": 206
        },
        "outputId": "337daba1-19e1-4d47-ff5f-f2e8fec48df5"
      },
      "source": [
        "eurtnd.head()"
      ],
      "execution_count": null,
      "outputs": [
        {
          "output_type": "execute_result",
          "data": {
            "text/html": [
              "<div>\n",
              "<style scoped>\n",
              "    .dataframe tbody tr th:only-of-type {\n",
              "        vertical-align: middle;\n",
              "    }\n",
              "\n",
              "    .dataframe tbody tr th {\n",
              "        vertical-align: top;\n",
              "    }\n",
              "\n",
              "    .dataframe thead th {\n",
              "        text-align: right;\n",
              "    }\n",
              "</style>\n",
              "<table border=\"1\" class=\"dataframe\">\n",
              "  <thead>\n",
              "    <tr style=\"text-align: right;\">\n",
              "      <th></th>\n",
              "      <th>Date</th>\n",
              "      <th>Dernier Prix</th>\n",
              "      <th>Date.1</th>\n",
              "      <th>Dernier Prix.1</th>\n",
              "    </tr>\n",
              "  </thead>\n",
              "  <tbody>\n",
              "    <tr>\n",
              "      <th>0</th>\n",
              "      <td>7/22/2020</td>\n",
              "      <td>3.2330</td>\n",
              "      <td>7/22/2020</td>\n",
              "      <td>2.8054</td>\n",
              "    </tr>\n",
              "    <tr>\n",
              "      <th>1</th>\n",
              "      <td>7/21/2020</td>\n",
              "      <td>3.2313</td>\n",
              "      <td>7/21/2020</td>\n",
              "      <td>2.8050</td>\n",
              "    </tr>\n",
              "    <tr>\n",
              "      <th>2</th>\n",
              "      <td>7/20/2020</td>\n",
              "      <td>3.2213</td>\n",
              "      <td>7/20/2020</td>\n",
              "      <td>2.8122</td>\n",
              "    </tr>\n",
              "    <tr>\n",
              "      <th>3</th>\n",
              "      <td>7/19/2020</td>\n",
              "      <td>3.2304</td>\n",
              "      <td>7/17/2020</td>\n",
              "      <td>2.8196</td>\n",
              "    </tr>\n",
              "    <tr>\n",
              "      <th>4</th>\n",
              "      <td>7/17/2020</td>\n",
              "      <td>3.2284</td>\n",
              "      <td>7/16/2020</td>\n",
              "      <td>2.8243</td>\n",
              "    </tr>\n",
              "  </tbody>\n",
              "</table>\n",
              "</div>"
            ],
            "text/plain": [
              "        Date  Dernier Prix     Date.1  Dernier Prix.1\n",
              "0  7/22/2020        3.2330  7/22/2020          2.8054\n",
              "1  7/21/2020        3.2313  7/21/2020          2.8050\n",
              "2  7/20/2020        3.2213  7/20/2020          2.8122\n",
              "3  7/19/2020        3.2304  7/17/2020          2.8196\n",
              "4  7/17/2020        3.2284  7/16/2020          2.8243"
            ]
          },
          "metadata": {
            "tags": []
          },
          "execution_count": 4
        }
      ]
    },
    {
      "cell_type": "code",
      "metadata": {
        "id": "pAdV2HTYSbaE"
      },
      "source": [
        "eurtnd=eurtnd[[\"Date\",\"Dernier Prix.1\"]]\n",
        "eurtnd=eurtnd.reindex(index=eurtnd.index[::-1])\n",
        "date=pd.to_datetime(eurtnd.Date, format='%m/%d/%Y')\n",
        "date=date.values"
      ],
      "execution_count": null,
      "outputs": []
    },
    {
      "cell_type": "code",
      "metadata": {
        "id": "6-B43_JZFqBs"
      },
      "source": [
        "eurtnd['diff']=eurtnd['Dernier Prix.1'].diff()"
      ],
      "execution_count": null,
      "outputs": []
    },
    {
      "cell_type": "markdown",
      "metadata": {
        "id": "TfMKYmgTTlzp"
      },
      "source": [
        "------------------"
      ]
    },
    {
      "cell_type": "code",
      "metadata": {
        "id": "XcOKqPgOT4mg"
      },
      "source": [
        "eurmad=pd.read_csv(\"/content/drive/My Drive/currencydata/eurmad10.csv\")\n",
        "eurtnd=pd.read_csv(\"/content/drive/My Drive/currencydata/eurtnd10.csv\")\n",
        "usdmad=pd.read_csv(\"/content/drive/My Drive/currencydata/usdmad10.csv\")\n",
        "usdtnd=pd.read_csv(\"/content/drive/My Drive/currencydata/usdtnd10.csv\")\n",
        "eurusd=pd.read_csv(\"/content/drive/My Drive/currencydata/eurusd10.csv\")\n",
        "\n",
        "eurusd.drop('Variation %', axis=1, inplace=True)\n",
        "eurtnd.drop('Variation %', axis=1, inplace=True)\n",
        "usdtnd.drop('Variation %', axis=1, inplace=True)\n",
        "eurmad.drop('Variation %', axis=1, inplace=True)\n",
        "usdmad.drop('Variation %', axis=1, inplace=True)\n",
        "\n",
        "eurmad=eurmad.reindex(index=eurmad.index[::-1])\n",
        "eurtnd=eurtnd.reindex(index=eurtnd.index[::-1])\n",
        "usdmad=usdmad.reindex(index=usdmad.index[::-1])\n",
        "usdtnd=usdtnd.reindex(index=usdtnd.index[::-1])\n",
        "eurusd=eurusd.reindex(index=eurusd.index[::-1])\n",
        "\n",
        "date=pd.to_datetime(eurmad.Date, format='%d/%m/%Y')\n",
        "date=date.values\n",
        "\n",
        "eurmad.Date = pd.to_datetime(eurmad.Date, format='%d/%m/%Y')\n",
        "eurtnd.Date = pd.to_datetime(eurtnd.Date, format='%d/%m/%Y')\n",
        "usdmad.Date = pd.to_datetime(usdmad.Date, format='%d/%m/%Y')\n",
        "usdtnd.Date = pd.to_datetime(usdtnd.Date, format='%d/%m/%Y')\n",
        "eurusd.Date = pd.to_datetime(eurusd.Date, format='%d/%m/%Y')\n",
        "\n",
        "eurmad.set_index('Date', inplace=True)\n",
        "eurtnd.set_index('Date', inplace=True)\n",
        "usdmad.set_index('Date', inplace=True)\n",
        "usdtnd.set_index('Date', inplace=True)\n",
        "eurusd.set_index('Date', inplace=True)\n",
        "\n",
        "eurusd= eurusd.astype(str)\n",
        "eurtnd= eurtnd.astype(str)\n",
        "eurmad= eurmad.astype(str)\n",
        "usdtnd= usdtnd.astype(str)\n",
        "usdmad= usdmad.astype(str)\n",
        "\n",
        "for i in eurusd.columns:\n",
        "    eurusd[i]= eurusd[i].str.replace(',', '.').astype(float)\n",
        "    eurtnd[i]= eurtnd[i].str.replace(',', '.').astype(float)\n",
        "    eurmad[i]= eurmad[i].str.replace(',', '.').astype(float)\n",
        "    usdtnd[i]= usdtnd[i].str.replace(',', '.').astype(float)\n",
        "    usdmad[i]= usdmad[i].str.replace(',', '.').astype(float)"
      ],
      "execution_count": null,
      "outputs": []
    },
    {
      "cell_type": "code",
      "metadata": {
        "id": "kS9mYT53T9-v"
      },
      "source": [
        "eurtnd['diff']=eurtnd['Dernier Prix'].diff()"
      ],
      "execution_count": null,
      "outputs": []
    },
    {
      "cell_type": "code",
      "metadata": {
        "id": "vkf1kt83VJIC",
        "colab": {
          "base_uri": "https://localhost:8080/",
          "height": 238
        },
        "outputId": "8b9b6d9c-01c3-4be2-82a1-22ed6ca9e407"
      },
      "source": [
        "eurtnd.tail()"
      ],
      "execution_count": null,
      "outputs": [
        {
          "output_type": "execute_result",
          "data": {
            "text/html": [
              "<div>\n",
              "<style scoped>\n",
              "    .dataframe tbody tr th:only-of-type {\n",
              "        vertical-align: middle;\n",
              "    }\n",
              "\n",
              "    .dataframe tbody tr th {\n",
              "        vertical-align: top;\n",
              "    }\n",
              "\n",
              "    .dataframe thead th {\n",
              "        text-align: right;\n",
              "    }\n",
              "</style>\n",
              "<table border=\"1\" class=\"dataframe\">\n",
              "  <thead>\n",
              "    <tr style=\"text-align: right;\">\n",
              "      <th></th>\n",
              "      <th>Dernier</th>\n",
              "      <th>Ouv.</th>\n",
              "      <th>Plus Haut</th>\n",
              "      <th>Plus Bas</th>\n",
              "      <th>diff</th>\n",
              "    </tr>\n",
              "    <tr>\n",
              "      <th>Date</th>\n",
              "      <th></th>\n",
              "      <th></th>\n",
              "      <th></th>\n",
              "      <th></th>\n",
              "      <th></th>\n",
              "    </tr>\n",
              "  </thead>\n",
              "  <tbody>\n",
              "    <tr>\n",
              "      <th>2020-07-20</th>\n",
              "      <td>3.2278</td>\n",
              "      <td>3.2271</td>\n",
              "      <td>3.2624</td>\n",
              "      <td>3.2074</td>\n",
              "      <td>0.0003</td>\n",
              "    </tr>\n",
              "    <tr>\n",
              "      <th>2020-07-21</th>\n",
              "      <td>3.2276</td>\n",
              "      <td>3.2294</td>\n",
              "      <td>3.2524</td>\n",
              "      <td>3.2084</td>\n",
              "      <td>-0.0002</td>\n",
              "    </tr>\n",
              "    <tr>\n",
              "      <th>2020-07-22</th>\n",
              "      <td>3.2327</td>\n",
              "      <td>3.2274</td>\n",
              "      <td>3.2606</td>\n",
              "      <td>3.2087</td>\n",
              "      <td>0.0051</td>\n",
              "    </tr>\n",
              "    <tr>\n",
              "      <th>2020-07-23</th>\n",
              "      <td>3.2240</td>\n",
              "      <td>3.2341</td>\n",
              "      <td>3.2589</td>\n",
              "      <td>3.2043</td>\n",
              "      <td>-0.0087</td>\n",
              "    </tr>\n",
              "    <tr>\n",
              "      <th>2020-07-24</th>\n",
              "      <td>3.2290</td>\n",
              "      <td>3.2243</td>\n",
              "      <td>3.2506</td>\n",
              "      <td>3.2040</td>\n",
              "      <td>0.0050</td>\n",
              "    </tr>\n",
              "  </tbody>\n",
              "</table>\n",
              "</div>"
            ],
            "text/plain": [
              "            Dernier    Ouv.  Plus Haut  Plus Bas    diff\n",
              "Date                                                    \n",
              "2020-07-20   3.2278  3.2271     3.2624    3.2074  0.0003\n",
              "2020-07-21   3.2276  3.2294     3.2524    3.2084 -0.0002\n",
              "2020-07-22   3.2327  3.2274     3.2606    3.2087  0.0051\n",
              "2020-07-23   3.2240  3.2341     3.2589    3.2043 -0.0087\n",
              "2020-07-24   3.2290  3.2243     3.2506    3.2040  0.0050"
            ]
          },
          "metadata": {
            "tags": []
          },
          "execution_count": 9
        }
      ]
    },
    {
      "cell_type": "code",
      "metadata": {
        "id": "JeGP3rnnUF1F",
        "colab": {
          "base_uri": "https://localhost:8080/",
          "height": 283
        },
        "outputId": "182a05a9-a264-451b-97d5-cb55a75413c8"
      },
      "source": [
        "from pandas.plotting import autocorrelation_plot\n",
        "plt.figsize=(20,10)\n",
        "ax = autocorrelation_plot(eurtnd['Dernier Prix'])\n",
        "ax.set_xlim([0, 50])\n",
        "plt.show()"
      ],
      "execution_count": null,
      "outputs": [
        {
          "output_type": "display_data",
          "data": {
            "image/png": "[encoded data removed]",
            "text/plain": [
              "<Figure size 432x288 with 1 Axes>"
            ]
          },
          "metadata": {
            "tags": [],
            "needs_background": "light"
          }
        }
      ]
    },
    {
      "cell_type": "code",
      "metadata": {
        "id": "6jPZCJWXUGXM",
        "colab": {
          "base_uri": "https://localhost:8080/",
          "height": 36
        },
        "outputId": "f616cbe6-17f0-4acd-cc6a-208d7a165770"
      },
      "source": [
        "eurtnd[\"Dernier Prix.1\"].autocorr(lag=1)"
      ],
      "execution_count": null,
      "outputs": [
        {
          "output_type": "execute_result",
          "data": {
            "text/plain": [
              "0.9992407498411989"
            ]
          },
          "metadata": {
            "tags": []
          },
          "execution_count": 186
        }
      ]
    },
    {
      "cell_type": "code",
      "metadata": {
        "id": "7C1cHvjITiYb"
      },
      "source": [
        "from statsmodels.tsa.stattools import adfuller\n",
        "adfuller(X)\n",
        "#data is non stationary"
      ],
      "execution_count": null,
      "outputs": []
    },
    {
      "cell_type": "code",
      "metadata": {
        "id": "Jaj4IZLsUIJT"
      },
      "source": [
        "#X=eurtnd[\"Plus Haut\"].values\n",
        "#X=usdtnd[\"Plus Haut\"].values\n",
        "#X=eurmad[\"Plus Haut\"].values\n",
        "#X=usdmad[\"Plus Haut\"].values\n",
        "#X=eurusd[\"Plus Haut\"].values"
      ],
      "execution_count": null,
      "outputs": []
    },
    {
      "cell_type": "code",
      "metadata": {
        "id": "n0EvUeYvuRRo",
        "colab": {
          "base_uri": "https://localhost:8080/",
          "height": 206
        },
        "outputId": "9fc7b60a-507e-461d-e829-f0fa166ac5b6"
      },
      "source": [
        "eurtnd.head()"
      ],
      "execution_count": null,
      "outputs": [
        {
          "output_type": "execute_result",
          "data": {
            "text/html": [
              "<div>\n",
              "<style scoped>\n",
              "    .dataframe tbody tr th:only-of-type {\n",
              "        vertical-align: middle;\n",
              "    }\n",
              "\n",
              "    .dataframe tbody tr th {\n",
              "        vertical-align: top;\n",
              "    }\n",
              "\n",
              "    .dataframe thead th {\n",
              "        text-align: right;\n",
              "    }\n",
              "</style>\n",
              "<table border=\"1\" class=\"dataframe\">\n",
              "  <thead>\n",
              "    <tr style=\"text-align: right;\">\n",
              "      <th></th>\n",
              "      <th>Date</th>\n",
              "      <th>Dernier Prix.1</th>\n",
              "    </tr>\n",
              "  </thead>\n",
              "  <tbody>\n",
              "    <tr>\n",
              "      <th>1298</th>\n",
              "      <td>10/11/2016</td>\n",
              "      <td>1.9685</td>\n",
              "    </tr>\n",
              "    <tr>\n",
              "      <th>1297</th>\n",
              "      <td>10/12/2016</td>\n",
              "      <td>1.9520</td>\n",
              "    </tr>\n",
              "    <tr>\n",
              "      <th>1296</th>\n",
              "      <td>10/13/2016</td>\n",
              "      <td>1.9548</td>\n",
              "    </tr>\n",
              "    <tr>\n",
              "      <th>1295</th>\n",
              "      <td>10/14/2016</td>\n",
              "      <td>1.9674</td>\n",
              "    </tr>\n",
              "    <tr>\n",
              "      <th>1294</th>\n",
              "      <td>10/15/2016</td>\n",
              "      <td>1.9754</td>\n",
              "    </tr>\n",
              "  </tbody>\n",
              "</table>\n",
              "</div>"
            ],
            "text/plain": [
              "            Date  Dernier Prix.1\n",
              "1298  10/11/2016          1.9685\n",
              "1297  10/12/2016          1.9520\n",
              "1296  10/13/2016          1.9548\n",
              "1295  10/14/2016          1.9674\n",
              "1294  10/15/2016          1.9754"
            ]
          },
          "metadata": {
            "tags": []
          },
          "execution_count": 659
        }
      ]
    },
    {
      "cell_type": "code",
      "metadata": {
        "id": "I71G542oriaL"
      },
      "source": [
        "eurtnd[\"Dernier Prix\"]=eurtnd[\"Dernier Prix.1\"]\n",
        "eurtnd.drop(\"Dernier Prix.1\",axis=1,inplace=True)"
      ],
      "execution_count": null,
      "outputs": []
    },
    {
      "cell_type": "code",
      "metadata": {
        "id": "PA6rj-yLWwoX"
      },
      "source": [
        "Y=eurtnd[\"Dernier Prix\"].iloc[350:].values\n",
        "#Y=Y[int(len(Y)*0.5):]"
      ],
      "execution_count": null,
      "outputs": []
    },
    {
      "cell_type": "code",
      "metadata": {
        "id": "L1jGfYN9cxCj"
      },
      "source": [
        "from scipy.signal import savgol_filter\n",
        "#X = savgol_filter(X, 25, 3) "
      ],
      "execution_count": null,
      "outputs": []
    },
    {
      "cell_type": "code",
      "metadata": {
        "id": "tgFZBqX1-7ci"
      },
      "source": [
        "eutn=pd.read_csv(\"/content/drive/My Drive/eurtnd.csv\")\n",
        "eutn=eutn[[\"Date\",\"Dernier Prix\"]]\n",
        "eutn=eutn.reindex(index=eutn.index[::-1])\n",
        "date=pd.to_datetime(eutn.Date, format='%m/%d/%Y')\n",
        "Y2=eutn[\"Dernier Prix\"].iloc[350:].values\n",
        "from scipy.signal import savgol_filter\n",
        "Y_smooth = savgol_filter(Y2, 13, 3) "
      ],
      "execution_count": null,
      "outputs": []
    },
    {
      "cell_type": "code",
      "metadata": {
        "id": "_5N-6G4u_J7k",
        "colab": {
          "base_uri": "https://localhost:8080/",
          "height": 630
        },
        "outputId": "eb09f835-59a1-4d00-b7af-41f8d10002a2"
      },
      "source": [
        "plt.figure(figsize=(20,10))\n",
        "plt.title(\"EUR/TND smoothed\",fontsize=18)\n",
        "plt.plot(Y_smooth,c=\"blue\")"
      ],
      "execution_count": null,
      "outputs": [
        {
          "output_type": "execute_result",
          "data": {
            "text/plain": [
              "[<matplotlib.lines.Line2D at 0x7f69ece23a20>]"
            ]
          },
          "metadata": {
            "tags": []
          },
          "execution_count": 13
        },
        {
          "output_type": "display_data",
          "data": {
            "image/png": "[encoded data removed]",
            "text/plain": [
              "<Figure size 1440x720 with 1 Axes>"
            ]
          },
          "metadata": {
            "tags": [],
            "needs_background": "light"
          }
        }
      ]
    },
    {
      "cell_type": "code",
      "metadata": {
        "id": "wlmsjPRL_B2y"
      },
      "source": [
        "plt.figure(figsize=(20,10))\n",
        "ax=test.plot(color='red', figsize=(20,10))\n",
        "    #plt.plot(ts, color='red',label='Real rate')\n",
        "predicted.plot(color='blue',label='Predicted rate',ax=ax)\n",
        "plt.title('Real VS Prediction (Smoothed)',fontsize=18)\n",
        "plt.xlabel('Time',fontsize=15)\n",
        "plt.ylabel('EUR/TND',fontsize=15)\n",
        "plt.legend()\n",
        "plt.show()"
      ],
      "execution_count": null,
      "outputs": []
    },
    {
      "cell_type": "code",
      "metadata": {
        "id": "MqDdoD0wUIQc"
      },
      "source": [
        "\n",
        "X=eurtnd[\"Dernier Prix\"].iloc[350:].values\n",
        "\n",
        "size = int(len(X) * 0.66)\n",
        "\n",
        "eurtnd[\"Dernier Prix\"]=savgol_filter(eurtnd[\"Dernier Prix\"].to_numpy(),5,3)\n",
        "eurtnd['target']=eurtnd[\"Dernier Prix\"]\n",
        "eurtnd['target_previous']=eurtnd[\"Dernier Prix\"].shift(1)\n",
        "eurtnd['diff']=(eurtnd['target']-eurtnd['target_previous'])*1000/eurtnd['target']\n",
        "target_previous=X[size:len(X)]\n",
        "X=eurtnd[\"diff\"].iloc[350:].values\n",
        "\n",
        "#########\n",
        "rft = np.fft.rfft(X,500)\n",
        "#X = np.fft.irfft(rft,500)\n",
        "#X=X[int(len(X)*0.5):]\n",
        "#test0=X[size-10:len(X)]\n",
        "from scipy.signal import savgol_filter\n",
        "#X = savgol_filter(X, 25, 3) "
      ],
      "execution_count": null,
      "outputs": []
    },
    {
      "cell_type": "code",
      "metadata": {
        "id": "o6iAzF5ldMOa"
      },
      "source": [
        "train, test = X[0:size], X[size-10:len(X)]\n",
        "ydate=date[size:len(X)]"
      ],
      "execution_count": null,
      "outputs": []
    },
    {
      "cell_type": "code",
      "metadata": {
        "id": "oMnXw5M3Y8c8"
      },
      "source": [
        "# n = 200\n",
        "# nfft = n\n",
        "\n",
        "# t = np.linspace(0, 0.1, n)\n",
        "# yf = np.fft.fftshift(np.fft.fft(X, nfft))\n",
        "# f = np.fft.fftshift(np.fft.fftfreq(nfft, np.mean(np.diff(t))))\n",
        "\n",
        "# plt.plot(f, abs(yf))\n",
        "# plt.grid()\n",
        "# plt.xlim([-100, 100])"
      ],
      "execution_count": null,
      "outputs": []
    },
    {
      "cell_type": "code",
      "metadata": {
        "id": "Pwr8lG2OaXYw",
        "colab": {
          "base_uri": "https://localhost:8080/",
          "height": 265
        },
        "outputId": "3874d2e1-cd21-49b2-97b0-113685c8a45c"
      },
      "source": [
        "#plt.plot(X)\n",
        "plt.plot(X)\n",
        "plt.show()"
      ],
      "execution_count": null,
      "outputs": [
        {
          "output_type": "display_data",
          "data": {
            "image/png": "[encoded data removed]",
            "text/plain": [
              "<Figure size 432x288 with 1 Axes>"
            ]
          },
          "metadata": {
            "tags": []
          }
        }
      ]
    },
    {
      "cell_type": "code",
      "metadata": {
        "id": "h04CawHwXknG"
      },
      "source": [
        "fft_list = np.asarray(np.fft.fft(np.asarray(X)))\n",
        "for num_ in [500]:\n",
        "     eurtnd['invfft'+str(num_)]= np.copy(fft_list); eurtnd['invfft'+str(num_)][num_:-num_]=0\n",
        "     eurtnd['invfft'+str(num_)]=np.real(np.fft.ifft(eurtnd['invfft'+str(num_)]))"
      ],
      "execution_count": null,
      "outputs": []
    },
    {
      "cell_type": "code",
      "metadata": {
        "id": "db1b9uMgWass"
      },
      "source": [
        "X=X[1:]"
      ],
      "execution_count": null,
      "outputs": []
    },
    {
      "cell_type": "code",
      "metadata": {
        "id": "KmWlnbcdMRZG"
      },
      "source": [
        "def best_order(series, max_order):\n",
        "    m=1\n",
        "    best=1\n",
        "    for i in range(max_order):\n",
        "        if i==0: \n",
        "            continue\n",
        "        else:\n",
        "            r=series.autocorr(lag=i)\n",
        "            if r<m and r>0.95:\n",
        "                m=r\n",
        "                best=i\n",
        "    return best\n",
        "lag=best_order(eurtnd[\"Dernier Prix\"].iloc[1:],100)"
      ],
      "execution_count": null,
      "outputs": []
    },
    {
      "cell_type": "code",
      "metadata": {
        "id": "sOXX87ZgUIPP"
      },
      "source": [
        "lag=best_order(pd.Series(X),100)"
      ],
      "execution_count": null,
      "outputs": []
    },
    {
      "cell_type": "code",
      "metadata": {
        "id": "5vgadiu9UINj"
      },
      "source": [
        "X_train = []\n",
        "y_train = []\n",
        "n=len(train)\n",
        "for i in range(lag,n):\n",
        "    X_train.append(train[i-lag:i])\n",
        "    y_train.append(train[i])\n",
        "X_train, y_train = np.array(X_train), np.array(y_train)\n",
        "X_train = np.reshape(X_train, (X_train.shape[0], X_train.shape[1],1))"
      ],
      "execution_count": null,
      "outputs": []
    },
    {
      "cell_type": "code",
      "metadata": {
        "id": "tW9-2txTUQRI"
      },
      "source": [
        "X_val = []\n",
        "y_val = []\n",
        "n=len(train)\n",
        "for i in range(lag,len(test)):\n",
        "    X_val.append(test[i-lag:i])\n",
        "    y_val.append(test[i])\n",
        "X_val, y_val = np.array(X_val), np.array(y_val)\n",
        "X_val = np.reshape(X_val, (X_val.shape[0], X_val.shape[1],1))"
      ],
      "execution_count": null,
      "outputs": []
    },
    {
      "cell_type": "code",
      "metadata": {
        "id": "EJrgdBzYTMap"
      },
      "source": [
        "X_test = []\n",
        "y_test=[]\n",
        "for i in range(len(train)+1,len(X)):\n",
        "    X_test.append(X[i-lag:i])\n",
        "    y_test.append(X[i])\n",
        "X_test = np.array(X_test)\n",
        "y_test=np.array(y_test)\n",
        "X_test = np.reshape(X_test, (X_test.shape[0],X_test.shape[1],1))\n"
      ],
      "execution_count": null,
      "outputs": []
    },
    {
      "cell_type": "markdown",
      "metadata": {
        "id": "wY4hKgjkUaL4"
      },
      "source": [
        "## 3) Deep Learning"
      ]
    },
    {
      "cell_type": "code",
      "metadata": {
        "id": "Mo8glVb2UQlV"
      },
      "source": [
        "import tensorflow as tf\n",
        "from keras.callbacks import ModelCheckpoint\n",
        "from keras.models import Model, load_model, Sequential\n",
        "from keras.layers import Dense, Activation, Dropout, Input, Masking, TimeDistributed, LSTM, Conv1D\n",
        "from keras.layers import GRU, SimpleRNN, Bidirectional, BatchNormalization, Reshape\n",
        "from keras.optimizers import Adam, SGD, RMSprop"
      ],
      "execution_count": null,
      "outputs": []
    },
    {
      "cell_type": "markdown",
      "metadata": {
        "id": "p0Ec3BhLVQzV"
      },
      "source": [
        "### a. Training"
      ]
    },
    {
      "cell_type": "code",
      "metadata": {
        "id": "E-SXy4aTM-J7"
      },
      "source": [
        "def ret_opt(name, rate):\n",
        "  opt=Adam(learning_rate=rate, beta_1=0.9, beta_2=0.99, epsilon=1e-07, amsgrad=False)\n",
        "  opt2=SGD(lr=rate, decay=1e-7, momentum=0.95, nesterov=True)\n",
        "  opt3 = RMSprop(learning_rate=rate, rho=0.9, momentum=0.0, epsilon=1e-07)\n",
        "  if name==\"adam\":\n",
        "    return opt\n",
        "  elif name==\"SGD\":\n",
        "    return opt2\n",
        "  elif name==\"rmsprop\":\n",
        "    return opt3"
      ],
      "execution_count": null,
      "outputs": []
    },
    {
      "cell_type": "code",
      "metadata": {
        "id": "DsbkXTwGNSpV"
      },
      "source": [
        "class myCallback(tf.keras.callbacks.Callback):\n",
        "  def on_epoch_end(self, epoch, logs={}):\n",
        "    if(logs.get('val_loss')<2e-04) and (epoch>6) and (logs.get('val_loss')<7e-04):\n",
        "      print(\"Training stopped\")\n",
        "      self.model.stop_training = True\n",
        "callbacks=myCallback()\n",
        "\n",
        "class myCallback2(tf.keras.callbacks.Callback):\n",
        "  def on_epoch_end(self, epoch, logs={}):\n",
        "    if (logs.get('loss')<5e-04) and (epoch>3) and (logs.get('val_loss')<7e-04):\n",
        "      print(\"Training stopped\")\n",
        "      self.model.stop_training = True\n",
        "callbacks2=myCallback2()"
      ],
      "execution_count": null,
      "outputs": []
    },
    {
      "cell_type": "markdown",
      "metadata": {
        "id": "cIdggaBRM3JB"
      },
      "source": [
        "Model 1: Simple GRU"
      ]
    },
    {
      "cell_type": "code",
      "metadata": {
        "id": "EZeTJOefM1PG"
      },
      "source": [
        "def GRUmodel(nb_units, nb_epochs, batches, name, rate):\n",
        "  model = Sequential()\n",
        "  model.add(GRU(units=nb_units, return_sequences=False,input_shape=(X_train.shape[1],X_train.shape[2])))\n",
        "  model.add(Dense(units=1))\n",
        "  model.compile(optimizer=ret_opt(name, rate) ,loss='mean_squared_error')\n",
        "  history=model.fit(X_train, y_train, validation_data=(X_val,y_val), batch_size=batches, epochs=nb_epochs, callbacks=[callbacks2])\n",
        "  val_loss=history.history['val_loss']\n",
        "  loss=history.history['loss']\n",
        "  pred=model.predict(X_test)\n",
        "  rmse = math.sqrt(mean_squared_error(test[10:-1],pred))\n",
        "  return loss, val_loss,rmse"
      ],
      "execution_count": null,
      "outputs": []
    },
    {
      "cell_type": "code",
      "metadata": {
        "id": "SRRd7C_mP7iF",
        "colab": {
          "base_uri": "https://localhost:8080/",
          "height": 482
        },
        "outputId": "77df6c9a-4eba-431d-c020-ea489b0de167"
      },
      "source": [
        "loss, val_loss, rmse=GRUmodel(200,20,10,\"adam\",0.01)"
      ],
      "execution_count": null,
      "outputs": [
        {
          "output_type": "stream",
          "text": [
            "Epoch 1/20\n",
            "85/85 [==============================] - 2s 18ms/step - loss: 0.1386 - val_loss: 7.5857e-04\n",
            "Epoch 2/20\n",
            "85/85 [==============================] - 1s 14ms/step - loss: 0.0014 - val_loss: 6.7810e-04\n",
            "Epoch 3/20\n",
            "85/85 [==============================] - 1s 14ms/step - loss: 0.0018 - val_loss: 0.0075\n",
            "Epoch 4/20\n",
            "85/85 [==============================] - 1s 14ms/step - loss: 0.0024 - val_loss: 0.0014\n",
            "Epoch 5/20\n",
            "85/85 [==============================] - 1s 14ms/step - loss: 0.0022 - val_loss: 0.0018\n",
            "Epoch 6/20\n",
            "85/85 [==============================] - 1s 15ms/step - loss: 0.0030 - val_loss: 4.2175e-04\n",
            "Epoch 7/20\n",
            "85/85 [==============================] - 1s 14ms/step - loss: 0.0039 - val_loss: 0.0032\n",
            "Epoch 8/20\n",
            "85/85 [==============================] - 1s 14ms/step - loss: 0.0032 - val_loss: 0.0027\n",
            "Epoch 9/20\n",
            "85/85 [==============================] - 1s 14ms/step - loss: 0.0030 - val_loss: 3.2540e-04\n",
            "Epoch 10/20\n",
            "85/85 [==============================] - 1s 14ms/step - loss: 0.0026 - val_loss: 7.7739e-04\n",
            "Epoch 11/20\n",
            "85/85 [==============================] - 1s 14ms/step - loss: 0.0021 - val_loss: 0.0049\n",
            "Epoch 12/20\n",
            "84/85 [============================>.] - ETA: 0s - loss: 0.0017Training stopped\n",
            "85/85 [==============================] - 1s 14ms/step - loss: 0.0017 - val_loss: 5.2768e-04\n"
          ],
          "name": "stdout"
        }
      ]
    },
    {
      "cell_type": "code",
      "metadata": {
        "id": "HWa0RWlyQ0RO",
        "colab": {
          "base_uri": "https://localhost:8080/",
          "height": 648
        },
        "outputId": "a6f20c2e-b108-4ec8-9da0-346149d9550e"
      },
      "source": [
        "a=pd.DataFrame(loss[2:],columns=[\"Loss\"])\n",
        "b=pd.DataFrame(val_loss[2:],columns=[\"Validation_loss\"])\n",
        "\n",
        "plt.figure(figsize=(20,10))\n",
        "ax=a.plot(color=\"y\",figsize=(20,10))\n",
        "b.plot(color='r',ax=ax)\n",
        "plt.plot([5,10],[0.0018,0.0018],color=\"black\")\n",
        "plt.plot([5,10],[0.0008,0.0008],color=\"black\")\n",
        "plt.plot([9,9],[0,0.005],color=\"black\")\n",
        "\n",
        "plt.text(9.1, 0.0011, \"Stoppage condition 2\",fontsize=12)\n",
        "plt.text(9.1, 0.0021, \"Stoppage condition 1\",fontsize=12)\n",
        "plt.text(8.7, 0.0051, \"Cutoff point\",fontsize=12)\n",
        "plt.title(\"Losses during model training\",fontsize=18)\n",
        "plt.xlabel(\"Epochs\",fontsize=14)\n",
        "plt.ylabel(\"Loss\",fontsize=14)\n",
        "\n",
        "plt.show()"
      ],
      "execution_count": null,
      "outputs": [
        {
          "output_type": "display_data",
          "data": {
            "text/plain": [
              "<Figure size 1440x720 with 0 Axes>"
            ]
          },
          "metadata": {
            "tags": []
          }
        },
        {
          "output_type": "display_data",
          "data": {
            "image/png": "[encoded data removed]",
            "text/plain": [
              "<Figure size 1440x720 with 1 Axes>"
            ]
          },
          "metadata": {
            "tags": [],
            "needs_background": "light"
          }
        }
      ]
    },
    {
      "cell_type": "markdown",
      "metadata": {
        "id": "LiLwV1z6Osbc"
      },
      "source": [
        "Model 2: Simple LSTM"
      ]
    },
    {
      "cell_type": "code",
      "metadata": {
        "id": "TziUz7QvOw0F"
      },
      "source": [
        "def LSTMmodel(nb_units, nb_epochs, batches, name, rate):\n",
        "  model = Sequential()\n",
        "  model.add(LSTM(units=nb_units, return_sequences=False,input_shape=(X_train.shape[1],X_train.shape[2])))\n",
        "  model.add(Dense(units=1))\n",
        "  model.compile(optimizer=ret_opt(name, rate) ,loss='mean_squared_error')\n",
        "  history=model.fit(X_train, y_train, validation_data=(X_val,y_val), batch_size=batches, epochs=nb_epochs, callbacks=[callbacks2])\n",
        "  val_loss=history.history['val_loss']\n",
        "  loss=history.history['loss']\n",
        "  pred=model.predict(X_test)\n",
        "  rmse = math.sqrt(mean_squared_error(test[10:-1],pred))\n",
        "  return loss, val_loss,rmse"
      ],
      "execution_count": null,
      "outputs": []
    },
    {
      "cell_type": "markdown",
      "metadata": {
        "id": "00m2CQW_PWgK"
      },
      "source": [
        "Model 3: Two layer GRU"
      ]
    },
    {
      "cell_type": "code",
      "metadata": {
        "id": "O89hDenQPaO4"
      },
      "source": [
        "def TwoGRU(nb_units, nb_units2, nb_epochs, batches, name, rate):\n",
        "  model = Sequential()\n",
        "  model.add(GRU(units=nb_units, return_sequences=True,input_shape=(X_train.shape[1],X_train.shape[2])))\n",
        "  model.add(GRU(units=nb_units2, return_sequences=False,input_shape=(X_train.shape[1],X_train.shape[2])))\n",
        "  model.add(Dense(units=1))\n",
        "  model.compile(optimizer=ret_opt(name, rate) ,loss='mean_squared_error')\n",
        "  history=model.fit(X_train, y_train, validation_data=(X_val,y_val), batch_size=batches, epochs=nb_epochs, callbacks=[callbacks2])\n",
        "  val_loss=history.history['val_loss']\n",
        "  loss=history.history['loss']\n",
        "  pred=model.predict(X_test)\n",
        "  rmse = math.sqrt(mean_squared_error(test[10:-1],pred))\n",
        "  return loss, val_loss,rmse"
      ],
      "execution_count": null,
      "outputs": []
    },
    {
      "cell_type": "markdown",
      "metadata": {
        "id": "FnKKhm8qPipw"
      },
      "source": [
        "Model 4: GRU+Dense"
      ]
    },
    {
      "cell_type": "code",
      "metadata": {
        "id": "GtGvHNOqPk5A"
      },
      "source": [
        "def GRUdense(nb_units, nb_dense, nb_epochs, batches, name, rate):\n",
        "  model = Sequential()\n",
        "  model.add(GRU(units=nb_units, return_sequences=False,input_shape=(X_train.shape[1],X_train.shape[2])))\n",
        "  model.add(Dense(units=nb_dense))\n",
        "  model.add(Dense(units=1))\n",
        "  model.compile(optimizer=ret_opt(name, rate) ,loss='mean_squared_error')\n",
        "  history=model.fit(X_train, y_train, validation_data=(X_val,y_val), batch_size=batches, epochs=nb_epochs, callbacks=[callbacks2])\n",
        "  val_loss=history.history['val_loss']\n",
        "  loss=history.history['loss']\n",
        "  pred=model.predict(X_test)\n",
        "  rmse = math.sqrt(mean_squared_error(test[10:-1],pred))\n",
        "  return loss, val_loss,rmse,pred"
      ],
      "execution_count": null,
      "outputs": []
    },
    {
      "cell_type": "code",
      "metadata": {
        "id": "ha5TmvvVVTod"
      },
      "source": [
        "unit_list=[10,30,50,100,200]\n",
        "dense_list=[5,10,20,30]\n",
        "batch_list=[5,10,20,50]\n",
        "epochs=20\n",
        "rates=[0.1,0.05,0.01]"
      ],
      "execution_count": null,
      "outputs": []
    },
    {
      "cell_type": "code",
      "metadata": {
        "id": "hLi0qoiSVpiJ"
      },
      "source": [
        "models=[GRUmodel, LSTMmodel, TwoGRU, GRUdense]"
      ],
      "execution_count": null,
      "outputs": []
    },
    {
      "cell_type": "markdown",
      "metadata": {
        "id": "31O-mFO5WUrm"
      },
      "source": [
        "Optimizing by unit number"
      ]
    },
    {
      "cell_type": "code",
      "metadata": {
        "id": "lyh0FWyXWJiq"
      },
      "source": [
        "gru=[]\n",
        "lstm=[]\n",
        "twogru=[]\n",
        "grudense=[]\n",
        "\n",
        "for nb_units in unit_list:\n",
        "  gru.append(GRUmodel(nb_units, epochs, 10, \"adam\", 0.01))\n",
        "  lstm.append(LSTMmodel(nb_units, epochs, 10, \"adam\", 0.01))\n",
        "\n",
        "\n",
        "for nb_units in unit_list:\n",
        "  for nb_units2 in unit_list:\n",
        "    twogru.append(TwoGRU(nb_units, nb_units2, epochs, 10, \"adam\", 0.01))\n",
        "\n",
        "for nb_units in unit_list:\n",
        "  for nb_dense in dense_list:\n",
        "    grudense.append(GRUdense(nb_units, nb_dense, epochs, 10, \"adam\", 0.01))\n",
        "\n",
        "results=[gru,lstm,twogru,grudense]"
      ],
      "execution_count": null,
      "outputs": []
    },
    {
      "cell_type": "code",
      "metadata": {
        "id": "UcXn7pqMfK_n"
      },
      "source": [
        "for nb_units in unit_list:\n",
        "  for nb_dense in dense_list:\n",
        "    grudense.append(GRUdense(nb_units, nb_dense, epochs, 10, \"adam\", 0.01))"
      ],
      "execution_count": null,
      "outputs": []
    },
    {
      "cell_type": "code",
      "metadata": {
        "id": "gxIXLc5edMKz"
      },
      "source": [
        "gru=results[0]\n",
        "lstm=results[1]\n",
        "twogru=results[2]\n",
        "grudense=results[3]"
      ],
      "execution_count": null,
      "outputs": []
    },
    {
      "cell_type": "code",
      "metadata": {
        "id": "o67Y0Y0feSaL"
      },
      "source": [
        "d=[g[2] for g in gru]\n",
        "grudf=pd.DataFrame(d,index=unit_list)\n",
        "\n",
        "d=[g[2] for g in lstm]\n",
        "lstmdf=pd.DataFrame(d,index=unit_list)\n",
        "\n",
        "\n",
        "\n",
        "un=[unit_list[i//len(unit_list)] for i in range(len(unit_list)*5)]\n",
        "un2=[unit_list[i%len(unit_list)] for i in range(len(unit_list)*5)]\n",
        "arrays=[un,un2]\n",
        "tuples = list(zip(*arrays))\n",
        "index = pd.MultiIndex.from_tuples(tuples, names=['nb units', 'nb units2'])\n",
        "\n",
        "d=[g[2] for g in twogru]\n",
        "twogrudf=pd.DataFrame(d,index=index)\n",
        "\n",
        "\n",
        "\n",
        "un=[unit_list[i//4] for i in range(len(unit_list)*4)]\n",
        "un2=[dense_list[i%len(dense_list)] for i in range(len(dense_list)*5)]\n",
        "arrays=[un,un2]\n",
        "tuples = list(zip(*arrays))\n",
        "index = pd.MultiIndex.from_tuples(tuples, names=['nb units', 'nb dense'])\n",
        "\n",
        "d=[g[2] for g in grudense]\n",
        "grudensedf=pd.DataFrame(d[20:],index=index)"
      ],
      "execution_count": null,
      "outputs": []
    },
    {
      "cell_type": "code",
      "metadata": {
        "id": "ePHcz4NxDAp5",
        "colab": {
          "base_uri": "https://localhost:8080/",
          "height": 36
        },
        "outputId": "e73ef1c9-a74b-4fb9-e0d1-d9578dde25c0"
      },
      "source": [
        "len(grudense)"
      ],
      "execution_count": null,
      "outputs": [
        {
          "output_type": "execute_result",
          "data": {
            "text/plain": [
              "40"
            ]
          },
          "metadata": {
            "tags": []
          },
          "execution_count": 345
        }
      ]
    },
    {
      "cell_type": "code",
      "metadata": {
        "id": "5SUzcEJwhgrS"
      },
      "source": [
        "grudf.to_csv(\"grudf.csv\")\n",
        "lstmdf.to_csv(\"lstmdf.csv\")\n",
        "twogrudf.to_csv(\"twogrudf.csv\")\n",
        "grudensedf.to_csv(\"grudensedf.csv\")"
      ],
      "execution_count": null,
      "outputs": []
    },
    {
      "cell_type": "code",
      "metadata": {
        "id": "onEEFPQiXSFq"
      },
      "source": [
        "grudf=pd.read_csv(\"grudf.csv\")\n",
        "lstmdf=pd.read_csv(\"lstmdf.csv\")\n",
        "twogrudf=pd.read_csv(\"twogrudf.csv\")\n",
        "grudensedf=pd.read_csv(\"grudensedf.csv\")"
      ],
      "execution_count": null,
      "outputs": []
    },
    {
      "cell_type": "code",
      "metadata": {
        "id": "4YlrsUuqCxik",
        "colab": {
          "base_uri": "https://localhost:8080/",
          "height": 408
        },
        "outputId": "6716408c-9e49-4920-ed40-ad8f29d3dd4e"
      },
      "source": [
        "pd.MultiIndex.from_tuples(tuples, names=['nb units', 'nb dense'])\n"
      ],
      "execution_count": null,
      "outputs": [
        {
          "output_type": "execute_result",
          "data": {
            "text/plain": [
              "MultiIndex([( 10,  5),\n",
              "            ( 10, 10),\n",
              "            ( 10, 20),\n",
              "            ( 10, 30),\n",
              "            ( 30,  5),\n",
              "            ( 30, 10),\n",
              "            ( 30, 20),\n",
              "            ( 30, 30),\n",
              "            ( 50,  5),\n",
              "            ( 50, 10),\n",
              "            ( 50, 20),\n",
              "            ( 50, 30),\n",
              "            (100,  5),\n",
              "            (100, 10),\n",
              "            (100, 20),\n",
              "            (100, 30),\n",
              "            (200,  5),\n",
              "            (200, 10),\n",
              "            (200, 20),\n",
              "            (200, 30)],\n",
              "           names=['nb units', 'nb dense'])"
            ]
          },
          "metadata": {
            "tags": []
          },
          "execution_count": 348
        }
      ]
    },
    {
      "cell_type": "code",
      "metadata": {
        "id": "BO2_6CEYfAqC",
        "colab": {
          "base_uri": "https://localhost:8080/",
          "height": 677
        },
        "outputId": "060e982f-29e4-4bcb-d737-2592e3f075b0"
      },
      "source": [
        "grudensedf"
      ],
      "execution_count": null,
      "outputs": [
        {
          "output_type": "execute_result",
          "data": {
            "text/html": [
              "<div>\n",
              "<style scoped>\n",
              "    .dataframe tbody tr th:only-of-type {\n",
              "        vertical-align: middle;\n",
              "    }\n",
              "\n",
              "    .dataframe tbody tr th {\n",
              "        vertical-align: top;\n",
              "    }\n",
              "\n",
              "    .dataframe thead th {\n",
              "        text-align: right;\n",
              "    }\n",
              "</style>\n",
              "<table border=\"1\" class=\"dataframe\">\n",
              "  <thead>\n",
              "    <tr style=\"text-align: right;\">\n",
              "      <th></th>\n",
              "      <th>nb units</th>\n",
              "      <th>nb dense</th>\n",
              "      <th>0</th>\n",
              "    </tr>\n",
              "  </thead>\n",
              "  <tbody>\n",
              "    <tr>\n",
              "      <th>0</th>\n",
              "      <td>10</td>\n",
              "      <td>5</td>\n",
              "      <td>0.024415</td>\n",
              "    </tr>\n",
              "    <tr>\n",
              "      <th>1</th>\n",
              "      <td>10</td>\n",
              "      <td>10</td>\n",
              "      <td>0.139449</td>\n",
              "    </tr>\n",
              "    <tr>\n",
              "      <th>2</th>\n",
              "      <td>10</td>\n",
              "      <td>20</td>\n",
              "      <td>0.085339</td>\n",
              "    </tr>\n",
              "    <tr>\n",
              "      <th>3</th>\n",
              "      <td>10</td>\n",
              "      <td>30</td>\n",
              "      <td>0.032132</td>\n",
              "    </tr>\n",
              "    <tr>\n",
              "      <th>4</th>\n",
              "      <td>30</td>\n",
              "      <td>5</td>\n",
              "      <td>0.068856</td>\n",
              "    </tr>\n",
              "    <tr>\n",
              "      <th>5</th>\n",
              "      <td>30</td>\n",
              "      <td>10</td>\n",
              "      <td>0.021201</td>\n",
              "    </tr>\n",
              "    <tr>\n",
              "      <th>6</th>\n",
              "      <td>30</td>\n",
              "      <td>20</td>\n",
              "      <td>0.054362</td>\n",
              "    </tr>\n",
              "    <tr>\n",
              "      <th>7</th>\n",
              "      <td>30</td>\n",
              "      <td>30</td>\n",
              "      <td>0.157322</td>\n",
              "    </tr>\n",
              "    <tr>\n",
              "      <th>8</th>\n",
              "      <td>50</td>\n",
              "      <td>5</td>\n",
              "      <td>0.058227</td>\n",
              "    </tr>\n",
              "    <tr>\n",
              "      <th>9</th>\n",
              "      <td>50</td>\n",
              "      <td>10</td>\n",
              "      <td>0.089608</td>\n",
              "    </tr>\n",
              "    <tr>\n",
              "      <th>10</th>\n",
              "      <td>50</td>\n",
              "      <td>20</td>\n",
              "      <td>0.044924</td>\n",
              "    </tr>\n",
              "    <tr>\n",
              "      <th>11</th>\n",
              "      <td>50</td>\n",
              "      <td>30</td>\n",
              "      <td>0.088629</td>\n",
              "    </tr>\n",
              "    <tr>\n",
              "      <th>12</th>\n",
              "      <td>100</td>\n",
              "      <td>5</td>\n",
              "      <td>0.060266</td>\n",
              "    </tr>\n",
              "    <tr>\n",
              "      <th>13</th>\n",
              "      <td>100</td>\n",
              "      <td>10</td>\n",
              "      <td>0.048118</td>\n",
              "    </tr>\n",
              "    <tr>\n",
              "      <th>14</th>\n",
              "      <td>100</td>\n",
              "      <td>20</td>\n",
              "      <td>0.054809</td>\n",
              "    </tr>\n",
              "    <tr>\n",
              "      <th>15</th>\n",
              "      <td>100</td>\n",
              "      <td>30</td>\n",
              "      <td>0.095244</td>\n",
              "    </tr>\n",
              "    <tr>\n",
              "      <th>16</th>\n",
              "      <td>200</td>\n",
              "      <td>5</td>\n",
              "      <td>0.105143</td>\n",
              "    </tr>\n",
              "    <tr>\n",
              "      <th>17</th>\n",
              "      <td>200</td>\n",
              "      <td>10</td>\n",
              "      <td>0.121463</td>\n",
              "    </tr>\n",
              "    <tr>\n",
              "      <th>18</th>\n",
              "      <td>200</td>\n",
              "      <td>20</td>\n",
              "      <td>0.067840</td>\n",
              "    </tr>\n",
              "    <tr>\n",
              "      <th>19</th>\n",
              "      <td>200</td>\n",
              "      <td>30</td>\n",
              "      <td>0.054807</td>\n",
              "    </tr>\n",
              "  </tbody>\n",
              "</table>\n",
              "</div>"
            ],
            "text/plain": [
              "    nb units  nb dense         0\n",
              "0         10         5  0.024415\n",
              "1         10        10  0.139449\n",
              "2         10        20  0.085339\n",
              "3         10        30  0.032132\n",
              "4         30         5  0.068856\n",
              "5         30        10  0.021201\n",
              "6         30        20  0.054362\n",
              "7         30        30  0.157322\n",
              "8         50         5  0.058227\n",
              "9         50        10  0.089608\n",
              "10        50        20  0.044924\n",
              "11        50        30  0.088629\n",
              "12       100         5  0.060266\n",
              "13       100        10  0.048118\n",
              "14       100        20  0.054809\n",
              "15       100        30  0.095244\n",
              "16       200         5  0.105143\n",
              "17       200        10  0.121463\n",
              "18       200        20  0.067840\n",
              "19       200        30  0.054807"
            ]
          },
          "metadata": {
            "tags": []
          },
          "execution_count": 351
        }
      ]
    },
    {
      "cell_type": "markdown",
      "metadata": {
        "id": "CMjYKpBVXt4d"
      },
      "source": [
        "Best optimizer"
      ]
    },
    {
      "cell_type": "code",
      "metadata": {
        "id": "aFTxRX_BXtQd",
        "colab": {
          "base_uri": "https://localhost:8080/",
          "height": 1000
        },
        "outputId": "e1fdfe7f-3272-45f0-e50b-631dcdb7e65a"
      },
      "source": [
        "gru2=[]\n",
        "lstm2=[]\n",
        "twogru2=[]\n",
        "grudense2=[]\n",
        "names=[\"adam\",\"SGD\",\"rmsprop\"]\n",
        "name=\"adam\"\n",
        "for rate in rates[:]:\n",
        "  gru2.append(GRUmodel(30, epochs, 10, name, rate))\n",
        "  lstm2.append(LSTMmodel(10, epochs, 10, name, rate))\n",
        "  twogru2.append(TwoGRU(200,30, epochs, 10, name, rate))\n",
        "  grudense2.append(GRUdense(30,10, epochs, 10, name, rate))\n",
        "\n",
        "results2=[gru2,lstm2,twogru2,grudense2]"
      ],
      "execution_count": null,
      "outputs": [
        {
          "output_type": "stream",
          "text": [
            "Epoch 1/20\n",
            "63/63 [==============================] - 1s 8ms/step - loss: 0.2291 - val_loss: 0.0726\n",
            "Epoch 2/20\n",
            "63/63 [==============================] - 0s 2ms/step - loss: 0.1095 - val_loss: 0.0766\n",
            "Epoch 3/20\n",
            "63/63 [==============================] - 0s 2ms/step - loss: 0.1117 - val_loss: 0.0864\n",
            "Epoch 4/20\n",
            "63/63 [==============================] - 0s 2ms/step - loss: 0.1405 - val_loss: 0.0653\n",
            "Epoch 5/20\n",
            "63/63 [==============================] - 0s 2ms/step - loss: 0.1107 - val_loss: 0.0602\n",
            "Epoch 6/20\n",
            "63/63 [==============================] - 0s 3ms/step - loss: 0.0949 - val_loss: 0.0720\n",
            "Epoch 7/20\n",
            "63/63 [==============================] - 0s 3ms/step - loss: 0.1173 - val_loss: 0.0717\n",
            "Epoch 8/20\n",
            "63/63 [==============================] - 0s 3ms/step - loss: 0.1040 - val_loss: 0.0593\n",
            "Epoch 9/20\n",
            "63/63 [==============================] - 0s 2ms/step - loss: 0.1019 - val_loss: 0.0638\n",
            "Epoch 10/20\n",
            "63/63 [==============================] - 0s 2ms/step - loss: 0.1131 - val_loss: 0.0678\n",
            "Epoch 11/20\n",
            "63/63 [==============================] - 0s 3ms/step - loss: 0.1043 - val_loss: 0.0583\n",
            "Epoch 12/20\n",
            "63/63 [==============================] - 0s 2ms/step - loss: 0.0975 - val_loss: 0.0863\n",
            "Epoch 13/20\n",
            "63/63 [==============================] - 0s 2ms/step - loss: 0.1067 - val_loss: 0.0743\n",
            "Epoch 14/20\n",
            "63/63 [==============================] - 0s 3ms/step - loss: 0.0992 - val_loss: 0.0629\n",
            "Epoch 15/20\n",
            "63/63 [==============================] - 0s 2ms/step - loss: 0.1074 - val_loss: 0.0616\n",
            "Epoch 16/20\n",
            "63/63 [==============================] - 0s 3ms/step - loss: 0.0983 - val_loss: 0.0592\n",
            "Epoch 17/20\n",
            "63/63 [==============================] - 0s 3ms/step - loss: 0.0987 - val_loss: 0.0645\n",
            "Epoch 18/20\n",
            "63/63 [==============================] - 0s 3ms/step - loss: 0.0964 - val_loss: 0.0922\n",
            "Epoch 19/20\n",
            "63/63 [==============================] - 0s 2ms/step - loss: 0.1090 - val_loss: 0.0634\n",
            "Epoch 20/20\n",
            "63/63 [==============================] - 0s 3ms/step - loss: 0.1022 - val_loss: 0.0844\n",
            "Epoch 1/20\n",
            "63/63 [==============================] - 1s 8ms/step - loss: 0.1699 - val_loss: 0.1428\n",
            "Epoch 2/20\n",
            "63/63 [==============================] - 0s 2ms/step - loss: 0.1068 - val_loss: 0.0840\n",
            "Epoch 3/20\n",
            "63/63 [==============================] - 0s 2ms/step - loss: 0.1244 - val_loss: 0.0807\n",
            "Epoch 4/20\n",
            "63/63 [==============================] - 0s 2ms/step - loss: 0.0987 - val_loss: 0.0724\n",
            "Epoch 5/20\n",
            "63/63 [==============================] - 0s 2ms/step - loss: 0.1055 - val_loss: 0.0596\n",
            "Epoch 6/20\n",
            "63/63 [==============================] - 0s 2ms/step - loss: 0.1028 - val_loss: 0.0610\n",
            "Epoch 7/20\n",
            "63/63 [==============================] - 0s 2ms/step - loss: 0.0917 - val_loss: 0.0546\n",
            "Epoch 8/20\n",
            "63/63 [==============================] - 0s 2ms/step - loss: 0.1051 - val_loss: 0.0683\n",
            "Epoch 9/20\n",
            "63/63 [==============================] - 0s 3ms/step - loss: 0.1144 - val_loss: 0.0872\n",
            "Epoch 10/20\n",
            "63/63 [==============================] - 0s 2ms/step - loss: 0.1112 - val_loss: 0.0609\n",
            "Epoch 11/20\n",
            "63/63 [==============================] - 0s 2ms/step - loss: 0.0936 - val_loss: 0.0639\n",
            "Epoch 12/20\n",
            "63/63 [==============================] - 0s 2ms/step - loss: 0.0954 - val_loss: 0.0696\n",
            "Epoch 13/20\n",
            "63/63 [==============================] - 0s 2ms/step - loss: 0.0941 - val_loss: 0.0625\n",
            "Epoch 14/20\n",
            "63/63 [==============================] - 0s 2ms/step - loss: 0.0897 - val_loss: 0.0615\n",
            "Epoch 15/20\n",
            "63/63 [==============================] - 0s 2ms/step - loss: 0.0883 - val_loss: 0.0614\n",
            "Epoch 16/20\n",
            "63/63 [==============================] - 0s 2ms/step - loss: 0.1057 - val_loss: 0.0618\n",
            "Epoch 17/20\n",
            "63/63 [==============================] - 0s 2ms/step - loss: 0.0999 - val_loss: 0.0707\n",
            "Epoch 18/20\n",
            "63/63 [==============================] - 0s 2ms/step - loss: 0.1000 - val_loss: 0.0625\n",
            "Epoch 19/20\n",
            "63/63 [==============================] - 0s 2ms/step - loss: 0.0930 - val_loss: 0.0673\n",
            "Epoch 20/20\n",
            "63/63 [==============================] - 0s 2ms/step - loss: 0.0947 - val_loss: 0.0547\n",
            "Epoch 1/20\n",
            "63/63 [==============================] - 1s 15ms/step - loss: 0.4152 - val_loss: 0.2503\n",
            "Epoch 2/20\n",
            "63/63 [==============================] - 0s 5ms/step - loss: 0.2015 - val_loss: 0.3081\n",
            "Epoch 3/20\n",
            "63/63 [==============================] - 0s 5ms/step - loss: 0.3475 - val_loss: 0.1126\n",
            "Epoch 4/20\n",
            "63/63 [==============================] - 0s 5ms/step - loss: 0.2758 - val_loss: 0.1649\n",
            "Epoch 5/20\n",
            "63/63 [==============================] - 0s 5ms/step - loss: 0.2194 - val_loss: 0.1264\n",
            "Epoch 6/20\n",
            "63/63 [==============================] - 0s 5ms/step - loss: 0.1961 - val_loss: 0.0962\n",
            "Epoch 7/20\n",
            "63/63 [==============================] - 0s 5ms/step - loss: 0.2593 - val_loss: 0.2464\n",
            "Epoch 8/20\n",
            "63/63 [==============================] - 0s 5ms/step - loss: 0.2885 - val_loss: 0.1576\n",
            "Epoch 9/20\n",
            "63/63 [==============================] - 0s 5ms/step - loss: 0.3363 - val_loss: 0.1619\n",
            "Epoch 10/20\n",
            "63/63 [==============================] - 0s 5ms/step - loss: 0.3061 - val_loss: 0.2044\n",
            "Epoch 11/20\n",
            "63/63 [==============================] - 0s 5ms/step - loss: 0.2419 - val_loss: 0.1921\n",
            "Epoch 12/20\n",
            "63/63 [==============================] - 0s 5ms/step - loss: 0.2055 - val_loss: 0.2561\n",
            "Epoch 13/20\n",
            "63/63 [==============================] - 0s 5ms/step - loss: 0.3603 - val_loss: 0.2503\n",
            "Epoch 14/20\n",
            "63/63 [==============================] - 0s 5ms/step - loss: 0.4106 - val_loss: 0.2896\n",
            "Epoch 15/20\n",
            "63/63 [==============================] - 0s 5ms/step - loss: 0.3796 - val_loss: 0.3150\n",
            "Epoch 16/20\n",
            "63/63 [==============================] - 0s 5ms/step - loss: 0.4136 - val_loss: 0.6473\n",
            "Epoch 17/20\n",
            "63/63 [==============================] - 0s 5ms/step - loss: 0.4434 - val_loss: 0.3470\n",
            "Epoch 18/20\n",
            "63/63 [==============================] - 0s 5ms/step - loss: 0.3817 - val_loss: 0.3135\n",
            "Epoch 19/20\n",
            "63/63 [==============================] - 0s 5ms/step - loss: 0.3819 - val_loss: 0.2693\n",
            "Epoch 20/20\n",
            "63/63 [==============================] - 0s 5ms/step - loss: 0.3399 - val_loss: 0.2839\n",
            "Epoch 1/20\n",
            "63/63 [==============================] - 1s 9ms/step - loss: 0.2519 - val_loss: 0.0554\n",
            "Epoch 2/20\n",
            "63/63 [==============================] - 0s 2ms/step - loss: 0.1130 - val_loss: 0.0960\n",
            "Epoch 3/20\n",
            "63/63 [==============================] - 0s 3ms/step - loss: 0.1043 - val_loss: 0.1024\n",
            "Epoch 4/20\n",
            "63/63 [==============================] - 0s 3ms/step - loss: 0.1276 - val_loss: 0.0770\n",
            "Epoch 5/20\n",
            "63/63 [==============================] - 0s 3ms/step - loss: 0.1254 - val_loss: 0.1196\n",
            "Epoch 6/20\n",
            "63/63 [==============================] - 0s 3ms/step - loss: 0.1247 - val_loss: 0.1010\n",
            "Epoch 7/20\n",
            "63/63 [==============================] - 0s 3ms/step - loss: 0.1186 - val_loss: 0.1125\n",
            "Epoch 8/20\n",
            "63/63 [==============================] - 0s 2ms/step - loss: 0.1209 - val_loss: 0.0609\n",
            "Epoch 9/20\n",
            "63/63 [==============================] - 0s 3ms/step - loss: 0.1326 - val_loss: 0.0717\n",
            "Epoch 10/20\n",
            "63/63 [==============================] - 0s 3ms/step - loss: 0.1111 - val_loss: 0.0637\n",
            "Epoch 11/20\n",
            "63/63 [==============================] - 0s 3ms/step - loss: 0.1073 - val_loss: 0.0626\n",
            "Epoch 12/20\n",
            "63/63 [==============================] - 0s 3ms/step - loss: 0.1232 - val_loss: 0.1938\n",
            "Epoch 13/20\n",
            "63/63 [==============================] - 0s 3ms/step - loss: 0.1433 - val_loss: 0.0844\n",
            "Epoch 14/20\n",
            "63/63 [==============================] - 0s 3ms/step - loss: 0.1287 - val_loss: 0.0834\n",
            "Epoch 15/20\n",
            "63/63 [==============================] - 0s 2ms/step - loss: 0.1041 - val_loss: 0.0748\n",
            "Epoch 16/20\n",
            "63/63 [==============================] - 0s 3ms/step - loss: 0.1164 - val_loss: 0.0600\n",
            "Epoch 17/20\n",
            "63/63 [==============================] - 0s 3ms/step - loss: 0.1060 - val_loss: 0.0854\n",
            "Epoch 18/20\n",
            "63/63 [==============================] - 0s 3ms/step - loss: 0.1015 - val_loss: 0.0574\n",
            "Epoch 19/20\n",
            "63/63 [==============================] - 0s 3ms/step - loss: 0.1096 - val_loss: 0.1032\n",
            "Epoch 20/20\n",
            "63/63 [==============================] - 0s 3ms/step - loss: 0.1118 - val_loss: 0.0583\n",
            "Epoch 1/20\n",
            "63/63 [==============================] - 0s 8ms/step - loss: 0.2050 - val_loss: 0.0743\n",
            "Epoch 2/20\n",
            "63/63 [==============================] - 0s 3ms/step - loss: 0.1024 - val_loss: 0.0632\n",
            "Epoch 3/20\n",
            "63/63 [==============================] - 0s 2ms/step - loss: 0.0957 - val_loss: 0.0585\n",
            "Epoch 4/20\n",
            "63/63 [==============================] - 0s 3ms/step - loss: 0.1137 - val_loss: 0.0614\n",
            "Epoch 5/20\n",
            "63/63 [==============================] - 0s 2ms/step - loss: 0.1072 - val_loss: 0.0598\n",
            "Epoch 6/20\n",
            "63/63 [==============================] - 0s 3ms/step - loss: 0.0976 - val_loss: 0.0581\n",
            "Epoch 7/20\n",
            "63/63 [==============================] - 0s 3ms/step - loss: 0.0997 - val_loss: 0.0744\n",
            "Epoch 8/20\n",
            "63/63 [==============================] - 0s 3ms/step - loss: 0.0958 - val_loss: 0.0594\n",
            "Epoch 9/20\n",
            "63/63 [==============================] - 0s 3ms/step - loss: 0.0994 - val_loss: 0.0548\n",
            "Epoch 10/20\n",
            "63/63 [==============================] - 0s 3ms/step - loss: 0.0951 - val_loss: 0.0648\n",
            "Epoch 11/20\n",
            "63/63 [==============================] - 0s 3ms/step - loss: 0.0999 - val_loss: 0.0555\n",
            "Epoch 12/20\n",
            "63/63 [==============================] - 0s 3ms/step - loss: 0.0947 - val_loss: 0.0616\n",
            "Epoch 13/20\n",
            "63/63 [==============================] - 0s 2ms/step - loss: 0.0856 - val_loss: 0.0700\n",
            "Epoch 14/20\n",
            "63/63 [==============================] - 0s 3ms/step - loss: 0.0944 - val_loss: 0.0567\n",
            "Epoch 15/20\n",
            "63/63 [==============================] - 0s 2ms/step - loss: 0.0910 - val_loss: 0.0602\n",
            "Epoch 16/20\n",
            "63/63 [==============================] - 0s 2ms/step - loss: 0.0908 - val_loss: 0.0704\n",
            "Epoch 17/20\n",
            "63/63 [==============================] - 0s 3ms/step - loss: 0.0915 - val_loss: 0.0601\n",
            "Epoch 18/20\n",
            "63/63 [==============================] - 0s 2ms/step - loss: 0.0953 - val_loss: 0.0665\n",
            "Epoch 19/20\n",
            "63/63 [==============================] - 0s 2ms/step - loss: 0.0901 - val_loss: 0.0600\n",
            "Epoch 20/20\n",
            "63/63 [==============================] - 0s 3ms/step - loss: 0.0907 - val_loss: 0.0572\n",
            "Epoch 1/20\n",
            "63/63 [==============================] - 0s 8ms/step - loss: 0.2265 - val_loss: 0.0728\n",
            "Epoch 2/20\n",
            "63/63 [==============================] - 0s 2ms/step - loss: 0.1059 - val_loss: 0.0572\n",
            "Epoch 3/20\n",
            "63/63 [==============================] - 0s 2ms/step - loss: 0.1007 - val_loss: 0.0670\n",
            "Epoch 4/20\n",
            "63/63 [==============================] - 0s 2ms/step - loss: 0.0998 - val_loss: 0.0650\n",
            "Epoch 5/20\n",
            "63/63 [==============================] - 0s 2ms/step - loss: 0.0965 - val_loss: 0.0590\n",
            "Epoch 6/20\n",
            "63/63 [==============================] - 0s 2ms/step - loss: 0.0950 - val_loss: 0.0593\n",
            "Epoch 7/20\n",
            "63/63 [==============================] - 0s 2ms/step - loss: 0.0894 - val_loss: 0.0648\n",
            "Epoch 8/20\n",
            "63/63 [==============================] - 0s 2ms/step - loss: 0.0901 - val_loss: 0.0552\n",
            "Epoch 9/20\n",
            "63/63 [==============================] - 0s 2ms/step - loss: 0.0996 - val_loss: 0.0623\n",
            "Epoch 10/20\n",
            "63/63 [==============================] - 0s 2ms/step - loss: 0.0899 - val_loss: 0.0582\n",
            "Epoch 11/20\n",
            "63/63 [==============================] - 0s 2ms/step - loss: 0.0929 - val_loss: 0.0681\n",
            "Epoch 12/20\n",
            "63/63 [==============================] - 0s 2ms/step - loss: 0.0899 - val_loss: 0.0566\n",
            "Epoch 13/20\n",
            "63/63 [==============================] - 0s 2ms/step - loss: 0.0920 - val_loss: 0.0638\n",
            "Epoch 14/20\n",
            "63/63 [==============================] - 0s 2ms/step - loss: 0.0932 - val_loss: 0.0550\n",
            "Epoch 15/20\n",
            "63/63 [==============================] - 0s 2ms/step - loss: 0.0930 - val_loss: 0.0635\n",
            "Epoch 16/20\n",
            "63/63 [==============================] - 0s 2ms/step - loss: 0.0903 - val_loss: 0.0631\n",
            "Epoch 17/20\n",
            "63/63 [==============================] - 0s 2ms/step - loss: 0.0938 - val_loss: 0.0593\n",
            "Epoch 18/20\n",
            "63/63 [==============================] - 0s 2ms/step - loss: 0.0886 - val_loss: 0.0667\n",
            "Epoch 19/20\n",
            "63/63 [==============================] - 0s 2ms/step - loss: 0.0917 - val_loss: 0.0577\n",
            "Epoch 20/20\n",
            "63/63 [==============================] - 0s 2ms/step - loss: 0.0952 - val_loss: 0.0558\n",
            "Epoch 1/20\n",
            "63/63 [==============================] - 1s 14ms/step - loss: 0.2940 - val_loss: 0.1331\n",
            "Epoch 2/20\n",
            "63/63 [==============================] - 0s 5ms/step - loss: 0.1469 - val_loss: 0.0752\n",
            "Epoch 3/20\n",
            "63/63 [==============================] - 0s 5ms/step - loss: 0.1143 - val_loss: 0.0677\n",
            "Epoch 4/20\n",
            "63/63 [==============================] - 0s 5ms/step - loss: 0.1367 - val_loss: 0.0985\n",
            "Epoch 5/20\n",
            "63/63 [==============================] - 0s 5ms/step - loss: 0.1270 - val_loss: 0.0819\n",
            "Epoch 6/20\n",
            "63/63 [==============================] - 0s 5ms/step - loss: 0.1395 - val_loss: 0.0829\n",
            "Epoch 7/20\n",
            "63/63 [==============================] - 0s 5ms/step - loss: 0.1252 - val_loss: 0.0836\n",
            "Epoch 8/20\n",
            "63/63 [==============================] - 0s 5ms/step - loss: 0.1090 - val_loss: 0.1090\n",
            "Epoch 9/20\n",
            "63/63 [==============================] - 0s 5ms/step - loss: 0.1197 - val_loss: 0.0802\n",
            "Epoch 10/20\n",
            "63/63 [==============================] - 0s 5ms/step - loss: 0.1161 - val_loss: 0.0773\n",
            "Epoch 11/20\n",
            "63/63 [==============================] - 0s 5ms/step - loss: 0.1198 - val_loss: 0.0798\n",
            "Epoch 12/20\n",
            "63/63 [==============================] - 0s 5ms/step - loss: 0.1121 - val_loss: 0.0674\n",
            "Epoch 13/20\n",
            "63/63 [==============================] - 0s 5ms/step - loss: 0.1223 - val_loss: 0.0762\n",
            "Epoch 14/20\n",
            "63/63 [==============================] - 0s 5ms/step - loss: 0.1065 - val_loss: 0.0925\n",
            "Epoch 15/20\n",
            "63/63 [==============================] - 0s 5ms/step - loss: 0.1201 - val_loss: 0.1109\n",
            "Epoch 16/20\n",
            "63/63 [==============================] - 0s 5ms/step - loss: 0.1010 - val_loss: 0.0834\n",
            "Epoch 17/20\n",
            "63/63 [==============================] - 0s 5ms/step - loss: 0.1054 - val_loss: 0.1339\n",
            "Epoch 18/20\n",
            "63/63 [==============================] - 0s 5ms/step - loss: 0.1083 - val_loss: 0.0750\n",
            "Epoch 19/20\n",
            "63/63 [==============================] - 0s 5ms/step - loss: 0.1050 - val_loss: 0.0918\n",
            "Epoch 20/20\n",
            "63/63 [==============================] - 0s 5ms/step - loss: 0.1080 - val_loss: 0.0596\n",
            "Epoch 1/20\n",
            "63/63 [==============================] - 0s 8ms/step - loss: 0.1507 - val_loss: 0.0609\n",
            "Epoch 2/20\n",
            "63/63 [==============================] - 0s 2ms/step - loss: 0.1183 - val_loss: 0.0666\n",
            "Epoch 3/20\n",
            "63/63 [==============================] - 0s 3ms/step - loss: 0.1114 - val_loss: 0.0705\n",
            "Epoch 4/20\n",
            "63/63 [==============================] - 0s 3ms/step - loss: 0.1141 - val_loss: 0.0949\n",
            "Epoch 5/20\n",
            "63/63 [==============================] - 0s 3ms/step - loss: 0.1107 - val_loss: 0.0874\n",
            "Epoch 6/20\n",
            "63/63 [==============================] - 0s 3ms/step - loss: 0.1102 - val_loss: 0.0564\n",
            "Epoch 7/20\n",
            "63/63 [==============================] - 0s 3ms/step - loss: 0.1066 - val_loss: 0.0579\n",
            "Epoch 8/20\n",
            "63/63 [==============================] - 0s 2ms/step - loss: 0.1050 - val_loss: 0.0715\n",
            "Epoch 9/20\n",
            "63/63 [==============================] - 0s 2ms/step - loss: 0.1087 - val_loss: 0.0554\n",
            "Epoch 10/20\n",
            "63/63 [==============================] - 0s 3ms/step - loss: 0.1039 - val_loss: 0.0603\n",
            "Epoch 11/20\n",
            "63/63 [==============================] - 0s 3ms/step - loss: 0.1017 - val_loss: 0.0636\n",
            "Epoch 12/20\n",
            "63/63 [==============================] - 0s 3ms/step - loss: 0.1051 - val_loss: 0.0704\n",
            "Epoch 13/20\n",
            "63/63 [==============================] - 0s 3ms/step - loss: 0.1068 - val_loss: 0.0587\n",
            "Epoch 14/20\n",
            "63/63 [==============================] - 0s 3ms/step - loss: 0.0961 - val_loss: 0.0643\n",
            "Epoch 15/20\n",
            "63/63 [==============================] - 0s 3ms/step - loss: 0.1151 - val_loss: 0.0604\n",
            "Epoch 16/20\n",
            "63/63 [==============================] - 0s 3ms/step - loss: 0.0971 - val_loss: 0.0568\n",
            "Epoch 17/20\n",
            "63/63 [==============================] - 0s 2ms/step - loss: 0.0951 - val_loss: 0.0767\n",
            "Epoch 18/20\n",
            "63/63 [==============================] - 0s 2ms/step - loss: 0.1173 - val_loss: 0.0764\n",
            "Epoch 19/20\n",
            "63/63 [==============================] - 0s 3ms/step - loss: 0.0939 - val_loss: 0.0606\n",
            "Epoch 20/20\n",
            "63/63 [==============================] - 0s 3ms/step - loss: 0.1019 - val_loss: 0.0577\n",
            "Epoch 1/20\n",
            "63/63 [==============================] - 1s 8ms/step - loss: 0.2598 - val_loss: 0.0607\n",
            "Epoch 2/20\n",
            "63/63 [==============================] - 0s 2ms/step - loss: 0.0925 - val_loss: 0.0565\n",
            "Epoch 3/20\n",
            "63/63 [==============================] - 0s 3ms/step - loss: 0.0912 - val_loss: 0.0699\n",
            "Epoch 4/20\n",
            "63/63 [==============================] - 0s 2ms/step - loss: 0.0876 - val_loss: 0.0599\n",
            "Epoch 5/20\n",
            "63/63 [==============================] - 0s 2ms/step - loss: 0.0911 - val_loss: 0.0570\n",
            "Epoch 6/20\n",
            "63/63 [==============================] - 0s 3ms/step - loss: 0.0993 - val_loss: 0.0610\n",
            "Epoch 7/20\n",
            "63/63 [==============================] - 0s 2ms/step - loss: 0.0910 - val_loss: 0.0664\n",
            "Epoch 8/20\n",
            "63/63 [==============================] - 0s 2ms/step - loss: 0.0851 - val_loss: 0.0597\n",
            "Epoch 9/20\n",
            "63/63 [==============================] - 0s 3ms/step - loss: 0.0860 - val_loss: 0.0548\n",
            "Epoch 10/20\n",
            "63/63 [==============================] - 0s 3ms/step - loss: 0.0882 - val_loss: 0.0685\n",
            "Epoch 11/20\n",
            "63/63 [==============================] - 0s 2ms/step - loss: 0.0885 - val_loss: 0.0556\n",
            "Epoch 12/20\n",
            "63/63 [==============================] - 0s 3ms/step - loss: 0.0844 - val_loss: 0.0564\n",
            "Epoch 13/20\n",
            "63/63 [==============================] - 0s 3ms/step - loss: 0.0846 - val_loss: 0.0617\n",
            "Epoch 14/20\n",
            "63/63 [==============================] - 0s 3ms/step - loss: 0.0892 - val_loss: 0.0572\n",
            "Epoch 15/20\n",
            "63/63 [==============================] - 0s 2ms/step - loss: 0.0854 - val_loss: 0.0571\n",
            "Epoch 16/20\n",
            "63/63 [==============================] - 0s 2ms/step - loss: 0.0859 - val_loss: 0.0566\n",
            "Epoch 17/20\n",
            "63/63 [==============================] - 0s 3ms/step - loss: 0.0871 - val_loss: 0.0554\n",
            "Epoch 18/20\n",
            "63/63 [==============================] - 0s 3ms/step - loss: 0.0866 - val_loss: 0.0550\n",
            "Epoch 19/20\n",
            "63/63 [==============================] - 0s 3ms/step - loss: 0.0866 - val_loss: 0.0627\n",
            "Epoch 20/20\n",
            "63/63 [==============================] - 0s 3ms/step - loss: 0.0877 - val_loss: 0.0702\n",
            "Epoch 1/20\n",
            "63/63 [==============================] - 1s 8ms/step - loss: 0.4593 - val_loss: 0.0831\n",
            "Epoch 2/20\n",
            "63/63 [==============================] - 0s 2ms/step - loss: 0.1166 - val_loss: 0.0681\n",
            "Epoch 3/20\n",
            "63/63 [==============================] - 0s 2ms/step - loss: 0.1080 - val_loss: 0.0620\n",
            "Epoch 4/20\n",
            "63/63 [==============================] - 0s 2ms/step - loss: 0.1021 - val_loss: 0.0667\n",
            "Epoch 5/20\n",
            "63/63 [==============================] - 0s 2ms/step - loss: 0.0942 - val_loss: 0.0632\n",
            "Epoch 6/20\n",
            "63/63 [==============================] - 0s 2ms/step - loss: 0.0888 - val_loss: 0.0566\n",
            "Epoch 7/20\n",
            "63/63 [==============================] - 0s 2ms/step - loss: 0.0886 - val_loss: 0.0655\n",
            "Epoch 8/20\n",
            "63/63 [==============================] - 0s 2ms/step - loss: 0.0883 - val_loss: 0.0574\n",
            "Epoch 9/20\n",
            "63/63 [==============================] - 0s 2ms/step - loss: 0.0856 - val_loss: 0.0634\n",
            "Epoch 10/20\n",
            "63/63 [==============================] - 0s 2ms/step - loss: 0.0850 - val_loss: 0.0559\n",
            "Epoch 11/20\n",
            "63/63 [==============================] - 0s 2ms/step - loss: 0.0854 - val_loss: 0.0554\n",
            "Epoch 12/20\n",
            "63/63 [==============================] - 0s 2ms/step - loss: 0.0848 - val_loss: 0.0599\n",
            "Epoch 13/20\n",
            "63/63 [==============================] - 0s 3ms/step - loss: 0.0857 - val_loss: 0.0557\n",
            "Epoch 14/20\n",
            "63/63 [==============================] - 0s 2ms/step - loss: 0.0851 - val_loss: 0.0573\n",
            "Epoch 15/20\n",
            "63/63 [==============================] - 0s 2ms/step - loss: 0.0862 - val_loss: 0.0560\n",
            "Epoch 16/20\n",
            "63/63 [==============================] - 0s 2ms/step - loss: 0.0860 - val_loss: 0.0556\n",
            "Epoch 17/20\n",
            "63/63 [==============================] - 0s 2ms/step - loss: 0.0844 - val_loss: 0.0575\n",
            "Epoch 18/20\n",
            "63/63 [==============================] - 0s 2ms/step - loss: 0.0850 - val_loss: 0.0622\n",
            "Epoch 19/20\n",
            "63/63 [==============================] - 0s 2ms/step - loss: 0.0853 - val_loss: 0.0545\n",
            "Epoch 20/20\n",
            "63/63 [==============================] - 0s 2ms/step - loss: 0.0874 - val_loss: 0.0588\n",
            "Epoch 1/20\n",
            "63/63 [==============================] - 1s 15ms/step - loss: 0.1719 - val_loss: 0.0946\n",
            "Epoch 2/20\n",
            "63/63 [==============================] - 0s 5ms/step - loss: 0.1136 - val_loss: 0.0606\n",
            "Epoch 3/20\n",
            "63/63 [==============================] - 0s 5ms/step - loss: 0.1065 - val_loss: 0.0745\n",
            "Epoch 4/20\n",
            "63/63 [==============================] - 0s 5ms/step - loss: 0.0960 - val_loss: 0.0643\n",
            "Epoch 5/20\n",
            "63/63 [==============================] - 0s 5ms/step - loss: 0.0955 - val_loss: 0.0651\n",
            "Epoch 6/20\n",
            "63/63 [==============================] - 0s 5ms/step - loss: 0.1070 - val_loss: 0.0790\n",
            "Epoch 7/20\n",
            "63/63 [==============================] - 0s 5ms/step - loss: 0.0943 - val_loss: 0.0664\n",
            "Epoch 8/20\n",
            "63/63 [==============================] - 0s 5ms/step - loss: 0.0981 - val_loss: 0.0580\n",
            "Epoch 9/20\n",
            "63/63 [==============================] - 0s 5ms/step - loss: 0.0858 - val_loss: 0.0609\n",
            "Epoch 10/20\n",
            "63/63 [==============================] - 0s 5ms/step - loss: 0.0930 - val_loss: 0.0563\n",
            "Epoch 11/20\n",
            "63/63 [==============================] - 0s 5ms/step - loss: 0.0930 - val_loss: 0.0599\n",
            "Epoch 12/20\n",
            "63/63 [==============================] - 0s 5ms/step - loss: 0.0897 - val_loss: 0.0682\n",
            "Epoch 13/20\n",
            "63/63 [==============================] - 0s 5ms/step - loss: 0.0970 - val_loss: 0.0725\n",
            "Epoch 14/20\n",
            "63/63 [==============================] - 0s 5ms/step - loss: 0.0941 - val_loss: 0.0669\n",
            "Epoch 15/20\n",
            "63/63 [==============================] - 0s 5ms/step - loss: 0.0937 - val_loss: 0.0649\n",
            "Epoch 16/20\n",
            "63/63 [==============================] - 0s 5ms/step - loss: 0.0875 - val_loss: 0.0575\n",
            "Epoch 17/20\n",
            "63/63 [==============================] - 0s 5ms/step - loss: 0.0928 - val_loss: 0.0679\n",
            "Epoch 18/20\n",
            "63/63 [==============================] - 0s 5ms/step - loss: 0.0928 - val_loss: 0.0576\n",
            "Epoch 19/20\n",
            "63/63 [==============================] - 0s 5ms/step - loss: 0.0880 - val_loss: 0.0582\n",
            "Epoch 20/20\n",
            "63/63 [==============================] - 0s 5ms/step - loss: 0.0903 - val_loss: 0.0719\n",
            "Epoch 1/20\n",
            "63/63 [==============================] - 1s 8ms/step - loss: 0.1863 - val_loss: 0.0560\n",
            "Epoch 2/20\n",
            "63/63 [==============================] - 0s 2ms/step - loss: 0.0917 - val_loss: 0.0652\n",
            "Epoch 3/20\n",
            "63/63 [==============================] - 0s 3ms/step - loss: 0.0933 - val_loss: 0.0549\n",
            "Epoch 4/20\n",
            "63/63 [==============================] - 0s 3ms/step - loss: 0.0951 - val_loss: 0.0574\n",
            "Epoch 5/20\n",
            "63/63 [==============================] - 0s 3ms/step - loss: 0.0893 - val_loss: 0.0606\n",
            "Epoch 6/20\n",
            "63/63 [==============================] - 0s 3ms/step - loss: 0.0929 - val_loss: 0.0557\n",
            "Epoch 7/20\n",
            "63/63 [==============================] - 0s 3ms/step - loss: 0.0902 - val_loss: 0.0663\n",
            "Epoch 8/20\n",
            "63/63 [==============================] - 0s 3ms/step - loss: 0.0946 - val_loss: 0.0574\n",
            "Epoch 9/20\n",
            "63/63 [==============================] - 0s 3ms/step - loss: 0.0833 - val_loss: 0.0732\n",
            "Epoch 10/20\n",
            "63/63 [==============================] - 0s 3ms/step - loss: 0.0941 - val_loss: 0.0553\n",
            "Epoch 11/20\n",
            "63/63 [==============================] - 0s 3ms/step - loss: 0.0938 - val_loss: 0.0667\n",
            "Epoch 12/20\n",
            "63/63 [==============================] - 0s 3ms/step - loss: 0.0914 - val_loss: 0.0572\n",
            "Epoch 13/20\n",
            "63/63 [==============================] - 0s 3ms/step - loss: 0.0899 - val_loss: 0.0666\n",
            "Epoch 14/20\n",
            "63/63 [==============================] - 0s 3ms/step - loss: 0.0950 - val_loss: 0.0663\n",
            "Epoch 15/20\n",
            "63/63 [==============================] - 0s 3ms/step - loss: 0.0891 - val_loss: 0.0546\n",
            "Epoch 16/20\n",
            "63/63 [==============================] - 0s 3ms/step - loss: 0.0854 - val_loss: 0.0574\n",
            "Epoch 17/20\n",
            "63/63 [==============================] - 0s 3ms/step - loss: 0.0914 - val_loss: 0.0551\n",
            "Epoch 18/20\n",
            "63/63 [==============================] - 0s 3ms/step - loss: 0.0907 - val_loss: 0.0600\n",
            "Epoch 19/20\n",
            "63/63 [==============================] - 0s 3ms/step - loss: 0.0903 - val_loss: 0.0781\n",
            "Epoch 20/20\n",
            "63/63 [==============================] - 0s 3ms/step - loss: 0.0833 - val_loss: 0.0594\n"
          ],
          "name": "stdout"
        }
      ]
    },
    {
      "cell_type": "code",
      "metadata": {
        "id": "a5a_AWefYL0H",
        "colab": {
          "base_uri": "https://localhost:8080/",
          "height": 36
        },
        "outputId": "f13a242d-172c-4f39-a451-444a0d61bcf4"
      },
      "source": [
        "len(gru2)"
      ],
      "execution_count": null,
      "outputs": [
        {
          "output_type": "execute_result",
          "data": {
            "text/plain": [
              "3"
            ]
          },
          "metadata": {
            "tags": []
          },
          "execution_count": 353
        }
      ]
    },
    {
      "cell_type": "code",
      "metadata": {
        "id": "d68SOmCpS-h0"
      },
      "source": [
        "un=[names[i//4] for i in range(len(names)*4)]\n",
        "un2=[rates[i%len(rates)] for i in range(len(rates)*4)]\n",
        "arrays=[un,un2]\n",
        "tuples = list(zip(*arrays))\n",
        "index = pd.MultiIndex.from_tuples(tuples, names=['optimizer', 'learning rate'])\n",
        "\n",
        "\n",
        "d=[g[2] for g in gru2]\n",
        "grudf2=pd.DataFrame(d,index=rates)\n",
        "\n",
        "d=[g[2] for g in lstm2]\n",
        "lstmdf2=pd.DataFrame(d,index=rates)\n",
        "\n",
        "d=[g[2] for g in twogru2]\n",
        "twogrudf2=pd.DataFrame(d,index=rates)\n",
        "\n",
        "d=[g[2] for g in grudense2]\n",
        "grudensedf2=pd.DataFrame(d,index=rates)"
      ],
      "execution_count": null,
      "outputs": []
    },
    {
      "cell_type": "code",
      "metadata": {
        "id": "coo08EEUlH6U"
      },
      "source": [
        "grudf2.to_csv(\"grudf2.csv\")\n",
        "lstmdf2.to_csv(\"lstmdf2.csv\")\n",
        "twogrudf2.to_csv(\"twogrudf2.csv\")\n",
        "grudensedf2.to_csv(\"grudensedf2.csv\")"
      ],
      "execution_count": null,
      "outputs": []
    },
    {
      "cell_type": "code",
      "metadata": {
        "id": "Me3Rxfv1FvKT",
        "colab": {
          "base_uri": "https://localhost:8080/",
          "height": 144
        },
        "outputId": "d1068fd7-e055-4008-cc0d-26d73231f135"
      },
      "source": [
        "grudensedf2"
      ],
      "execution_count": null,
      "outputs": [
        {
          "output_type": "execute_result",
          "data": {
            "text/html": [
              "<div>\n",
              "<style scoped>\n",
              "    .dataframe tbody tr th:only-of-type {\n",
              "        vertical-align: middle;\n",
              "    }\n",
              "\n",
              "    .dataframe tbody tr th {\n",
              "        vertical-align: top;\n",
              "    }\n",
              "\n",
              "    .dataframe thead th {\n",
              "        text-align: right;\n",
              "    }\n",
              "</style>\n",
              "<table border=\"1\" class=\"dataframe\">\n",
              "  <thead>\n",
              "    <tr style=\"text-align: right;\">\n",
              "      <th></th>\n",
              "      <th>0</th>\n",
              "    </tr>\n",
              "  </thead>\n",
              "  <tbody>\n",
              "    <tr>\n",
              "      <th>0.10</th>\n",
              "      <td>0.078043</td>\n",
              "    </tr>\n",
              "    <tr>\n",
              "      <th>0.05</th>\n",
              "      <td>0.087717</td>\n",
              "    </tr>\n",
              "    <tr>\n",
              "      <th>0.01</th>\n",
              "      <td>0.104047</td>\n",
              "    </tr>\n",
              "  </tbody>\n",
              "</table>\n",
              "</div>"
            ],
            "text/plain": [
              "             0\n",
              "0.10  0.078043\n",
              "0.05  0.087717\n",
              "0.01  0.104047"
            ]
          },
          "metadata": {
            "tags": []
          },
          "execution_count": 360
        }
      ]
    },
    {
      "cell_type": "code",
      "metadata": {
        "id": "tSnWR0RPe5vm"
      },
      "source": [
        "a=[]\n",
        "a.append(GRUmodel(30, epochs, 10, name, 0.05))\n",
        "a.append(LSTMmodel(10, epochs, 10, name, 0.05))\n",
        "a.append(TwoGRU(200,30, epochs, 10, name, 0.05))\n",
        "a.append(GRUdense(30,10, epochs, 10, name, 0.1))\n",
        "\n",
        "\n"
      ],
      "execution_count": null,
      "outputs": []
    },
    {
      "cell_type": "code",
      "metadata": {
        "id": "5A8Hht6QfUTS",
        "colab": {
          "base_uri": "https://localhost:8080/",
          "height": 91
        },
        "outputId": "0ebbefcd-a31e-48dc-f6f7-d64b40428da2"
      },
      "source": [
        "[aa[2] for aa in a]"
      ],
      "execution_count": null,
      "outputs": [
        {
          "output_type": "execute_result",
          "data": {
            "text/plain": [
              "[0.10542438332776043,\n",
              " 0.05060863582042278,\n",
              " 0.13616871217589332,\n",
              " 0.1354831484682136]"
            ]
          },
          "metadata": {
            "tags": []
          },
          "execution_count": 375
        }
      ]
    },
    {
      "cell_type": "code",
      "metadata": {
        "id": "aDITFfJvsrx1",
        "colab": {
          "base_uri": "https://localhost:8080/",
          "height": 482
        },
        "outputId": "771e7b26-9c61-4212-9435-703276e1c27e"
      },
      "source": [
        "a,b,c,pred=GRUdense(50,10, epochs, 10, name, 0.01)"
      ],
      "execution_count": null,
      "outputs": [
        {
          "output_type": "stream",
          "text": [
            "Epoch 1/20\n",
            "84/84 [==============================] - 1s 15ms/step - loss: 0.2314 - val_loss: 0.0136\n",
            "Epoch 2/20\n",
            "84/84 [==============================] - 1s 10ms/step - loss: 0.0028 - val_loss: 0.0031\n",
            "Epoch 3/20\n",
            "84/84 [==============================] - 1s 11ms/step - loss: 7.4846e-04 - val_loss: 1.6276e-04\n",
            "Epoch 4/20\n",
            "84/84 [==============================] - 1s 11ms/step - loss: 4.2549e-04 - val_loss: 2.4737e-04\n",
            "Epoch 5/20\n",
            "84/84 [==============================] - 1s 11ms/step - loss: 4.5145e-04 - val_loss: 9.4045e-04\n",
            "Epoch 6/20\n",
            "84/84 [==============================] - 1s 11ms/step - loss: 7.1578e-04 - val_loss: 2.6541e-04\n",
            "Epoch 7/20\n",
            "84/84 [==============================] - 1s 11ms/step - loss: 0.0011 - val_loss: 5.4977e-04\n",
            "Epoch 8/20\n",
            "84/84 [==============================] - 1s 11ms/step - loss: 9.5731e-04 - val_loss: 9.8678e-04\n",
            "Epoch 9/20\n",
            "84/84 [==============================] - 1s 10ms/step - loss: 8.3443e-04 - val_loss: 4.6926e-04\n",
            "Epoch 10/20\n",
            "84/84 [==============================] - 1s 10ms/step - loss: 8.8122e-04 - val_loss: 3.0569e-04\n",
            "Epoch 11/20\n",
            "84/84 [==============================] - 1s 10ms/step - loss: 0.0017 - val_loss: 0.0033\n",
            "Epoch 12/20\n",
            "82/84 [============================>.] - ETA: 0s - loss: 8.4407e-04Training stopped\n",
            "84/84 [==============================] - 1s 11ms/step - loss: 8.3752e-04 - val_loss: 3.1954e-04\n"
          ],
          "name": "stdout"
        }
      ]
    },
    {
      "cell_type": "markdown",
      "metadata": {
        "id": "4VZFF7csJhzG"
      },
      "source": [
        ""
      ]
    },
    {
      "cell_type": "code",
      "metadata": {
        "id": "RGpZX0lNUQcY"
      },
      "source": [
        "model = Sequential()\n",
        "# First LSTM layer\n",
        "model.add(GRU(units=30, return_sequences=False,input_shape=(X_train.shape[1],X_train.shape[2])))\n",
        "#model.add(Bidirectional(LSTM(units=30, return_sequences=False), input_shape=(X_train.shape[1],X_train.shape[2])))\n",
        "#model.add(Dropout(0.2))\n",
        "#model.add(LSTM(units=30,return_sequences=False))\n",
        "#model.add(Dropout(0.2))\n",
        "model.add(Dense(units=10))\n",
        "# The output layer\n",
        "model.add(Dense(units=1))\n",
        "opt=Adam(\n",
        "    learning_rate=0.01,\n",
        "    beta_1=0.9,\n",
        "    beta_2=0.99,\n",
        "    epsilon=1e-07,\n",
        "    amsgrad=False,\n",
        "    name=\"Adam\")\n",
        "##Best params beta1 0.9 beta2 0.99 25 epochs\n",
        "\n",
        "opt2=SGD(lr=0.001, decay=1e-7, momentum=0.95, nesterov=True)\n",
        "##Best params momentum 0.9 nesterov True.''\n",
        "\n",
        "opt3 = RMSprop(learning_rate=0.1, rho=0.9, momentum=0.0, epsilon=1e-07)\n",
        "\n",
        "model.compile(optimizer=opt ,loss='mean_absolute_error')"
      ],
      "execution_count": null,
      "outputs": []
    },
    {
      "cell_type": "code",
      "metadata": {
        "id": "xHOFWRsbUQZS",
        "colab": {
          "base_uri": "https://localhost:8080/",
          "height": 408
        },
        "outputId": "54f34a82-e1cf-4374-dc0e-f654d24b6f9b"
      },
      "source": [
        "model.fit(X_train, y_train, validation_data=(X_val,y_val), batch_size=10, epochs=10, callbacks=[callbacks2])"
      ],
      "execution_count": null,
      "outputs": [
        {
          "output_type": "stream",
          "text": [
            "Epoch 1/10\n",
            "63/63 [==============================] - 1s 8ms/step - loss: 2.4197 - val_loss: 1.7092\n",
            "Epoch 2/10\n",
            "63/63 [==============================] - 0s 3ms/step - loss: 2.3884 - val_loss: 1.7150\n",
            "Epoch 3/10\n",
            "63/63 [==============================] - 0s 3ms/step - loss: 2.3971 - val_loss: 1.6772\n",
            "Epoch 4/10\n",
            "63/63 [==============================] - 0s 3ms/step - loss: 2.3898 - val_loss: 1.7493\n",
            "Epoch 5/10\n",
            "63/63 [==============================] - 0s 3ms/step - loss: 2.4052 - val_loss: 1.6785\n",
            "Epoch 6/10\n",
            "63/63 [==============================] - 0s 3ms/step - loss: 2.3914 - val_loss: 1.6589\n",
            "Epoch 7/10\n",
            "63/63 [==============================] - 0s 3ms/step - loss: 2.3928 - val_loss: 1.6617\n",
            "Epoch 8/10\n",
            "63/63 [==============================] - 0s 3ms/step - loss: 2.4049 - val_loss: 1.6652\n",
            "Epoch 9/10\n",
            "63/63 [==============================] - 0s 3ms/step - loss: 2.3874 - val_loss: 1.6607\n",
            "Epoch 10/10\n",
            "63/63 [==============================] - 0s 3ms/step - loss: 2.4010 - val_loss: 1.6771\n"
          ],
          "name": "stdout"
        },
        {
          "output_type": "execute_result",
          "data": {
            "text/plain": [
              "<tensorflow.python.keras.callbacks.History at 0x7f69ae9a5d68>"
            ]
          },
          "metadata": {
            "tags": []
          },
          "execution_count": 94
        }
      ]
    },
    {
      "cell_type": "code",
      "metadata": {
        "id": "6iOJK8QdV2V0"
      },
      "source": [
        "model.save_weights(\"/content/drive/My Drive/currencydata/LSTM+Dense Univariate Adam dummy.h5\")"
      ],
      "execution_count": null,
      "outputs": []
    },
    {
      "cell_type": "markdown",
      "metadata": {
        "id": "M5wpXjTgVXXy"
      },
      "source": [
        "### b. Long term forecasting"
      ]
    },
    {
      "cell_type": "code",
      "metadata": {
        "id": "-ZUio4mCUQXD"
      },
      "source": [
        "X_test = []\n",
        "y_test=[]\n",
        "for i in range(len(train)+1,len(X)):\n",
        "    X_test.append(X[i-lag:i])\n",
        "    y_test.append(X[i])\n",
        "X_test = np.array(X_test)\n",
        "y_test=np.array(y_test)\n",
        "X_test = np.reshape(X_test, (X_test.shape[0],X_test.shape[1],1))\n"
      ],
      "execution_count": null,
      "outputs": []
    },
    {
      "cell_type": "code",
      "metadata": {
        "id": "HfR94cCRUQUt"
      },
      "source": [
        "pred2 = model.predict(X_test)"
      ],
      "execution_count": null,
      "outputs": []
    },
    {
      "cell_type": "code",
      "metadata": {
        "id": "m4hYH59CnwGR"
      },
      "source": [
        ""
      ],
      "execution_count": null,
      "outputs": []
    },
    {
      "cell_type": "code",
      "metadata": {
        "id": "MoEclH4fV7dS"
      },
      "source": [
        "p=[]\n",
        "x=X[size]\n",
        "for elt in pred2:\n",
        "  p.append(x+elt)\n",
        "  x+=elt"
      ],
      "execution_count": null,
      "outputs": []
    },
    {
      "cell_type": "code",
      "metadata": {
        "id": "Oj26qaG5XPa9"
      },
      "source": [
        "t=[]\n",
        "x=X[size]\n",
        "for elt in test[10:]:\n",
        "  t.append(x+elt)\n",
        "  x+=elt"
      ],
      "execution_count": null,
      "outputs": []
    },
    {
      "cell_type": "code",
      "metadata": {
        "id": "9hkV--gIbx3k"
      },
      "source": [
        "predp=pd.DataFrame(pred2, columns = ['Prediction'])\n",
        "predp[\"Date\"]=date[size+1:len(X)]\n",
        "predp.set_index('Date', inplace=True)\n",
        "\n",
        "ts=pd.DataFrame(test[10:], columns = ['Real Rate'])\n",
        "ts[\"Date\"]=date[size:len(X)]\n",
        "ts.set_index('Date', inplace=True)"
      ],
      "execution_count": null,
      "outputs": []
    },
    {
      "cell_type": "code",
      "metadata": {
        "id": "KG77nBOSgUyD",
        "colab": {
          "base_uri": "https://localhost:8080/"
        },
        "outputId": "32e32c54-cabe-4a40-8ecb-142051b44537"
      },
      "source": [
        "ts.tail()"
      ],
      "execution_count": null,
      "outputs": [
        {
          "output_type": "execute_result",
          "data": {
            "text/html": [
              "<div>\n",
              "<style scoped>\n",
              "    .dataframe tbody tr th:only-of-type {\n",
              "        vertical-align: middle;\n",
              "    }\n",
              "\n",
              "    .dataframe tbody tr th {\n",
              "        vertical-align: top;\n",
              "    }\n",
              "\n",
              "    .dataframe thead th {\n",
              "        text-align: right;\n",
              "    }\n",
              "</style>\n",
              "<table border=\"1\" class=\"dataframe\">\n",
              "  <thead>\n",
              "    <tr style=\"text-align: right;\">\n",
              "      <th></th>\n",
              "      <th>Real Rate</th>\n",
              "    </tr>\n",
              "    <tr>\n",
              "      <th>Date</th>\n",
              "      <th></th>\n",
              "    </tr>\n",
              "  </thead>\n",
              "  <tbody>\n",
              "    <tr>\n",
              "      <th>NaT</th>\n",
              "      <td>-0.396336</td>\n",
              "    </tr>\n",
              "    <tr>\n",
              "      <th>NaT</th>\n",
              "      <td>-2.460897</td>\n",
              "    </tr>\n",
              "    <tr>\n",
              "      <th>NaT</th>\n",
              "      <td>-2.537254</td>\n",
              "    </tr>\n",
              "    <tr>\n",
              "      <th>NaT</th>\n",
              "      <td>-2.337448</td>\n",
              "    </tr>\n",
              "    <tr>\n",
              "      <th>NaT</th>\n",
              "      <td>0.028008</td>\n",
              "    </tr>\n",
              "  </tbody>\n",
              "</table>\n",
              "</div>"
            ],
            "text/plain": [
              "      Real Rate\n",
              "Date           \n",
              "NaT   -0.396336\n",
              "NaT   -2.460897\n",
              "NaT   -2.537254\n",
              "NaT   -2.337448\n",
              "NaT    0.028008"
            ]
          },
          "metadata": {
            "tags": []
          },
          "execution_count": 100
        }
      ]
    },
    {
      "cell_type": "code",
      "metadata": {
        "id": "Lj3H-WNaUlJh"
      },
      "source": [
        "import math\n",
        "from sklearn.metrics import mean_squared_error\n",
        "\n",
        "# Some functions to help out with\n",
        "def plot_predictions(test,predicted):\n",
        "    plt.figure(figsize=(20,10))\n",
        "    ax=test.plot(color='red', figsize=(20,10))\n",
        "    #plt.plot(ts, color='red',label='Real rate')\n",
        "    predicted.plot(color='blue',label='Predicted rate',ax=ax)\n",
        "    plt.title('Real VS Prediction USD/MAD',fontsize=18)\n",
        "    plt.xlabel('Time',fontsize=15)\n",
        "    plt.ylabel('USD/TND',fontsize=15)\n",
        "    plt.legend()\n",
        "    plt.show()\n",
        "\n",
        "def return_rmse(test,predicted):\n",
        "    rmse = math.sqrt(mean_squared_error(test, predicted))\n",
        "    print(\"The root mean squared error is {}.\".format(rmse))"
      ],
      "execution_count": null,
      "outputs": []
    },
    {
      "cell_type": "code",
      "metadata": {
        "id": "pjQoNqErUlQz"
      },
      "source": [
        "plot_predictions(ts,predp)"
      ],
      "execution_count": null,
      "outputs": []
    },
    {
      "cell_type": "code",
      "metadata": {
        "id": "sIPDTqATseq-"
      },
      "source": [
        "len(target_previous[size:])"
      ],
      "execution_count": null,
      "outputs": []
    },
    {
      "cell_type": "code",
      "metadata": {
        "id": "kfEElpoAtC-D"
      },
      "source": [
        "test.shape[0]"
      ],
      "execution_count": null,
      "outputs": []
    },
    {
      "cell_type": "code",
      "metadata": {
        "id": "hrNriH8PUvLs"
      },
      "source": [
        "import math\n",
        "from sklearn.metrics import mean_squared_error\n",
        "return_rmse(test[10:-1],pred2[:])"
      ],
      "execution_count": null,
      "outputs": []
    },
    {
      "cell_type": "markdown",
      "metadata": {
        "id": "ucZBn3HlT-UD"
      },
      "source": [
        ""
      ]
    },
    {
      "cell_type": "markdown",
      "metadata": {
        "id": "sNLbdGqvUC8c"
      },
      "source": [
        "#### From variation to values"
      ]
    },
    {
      "cell_type": "code",
      "metadata": {
        "id": "Y_fMT06otpKm"
      },
      "source": [
        "len(target_previous)"
      ],
      "execution_count": null,
      "outputs": []
    },
    {
      "cell_type": "code",
      "metadata": {
        "id": "lY2ZURIxn1B3"
      },
      "source": [
        "#target_previous=eurtnd['target_previous'].tolist()\n",
        "p = (pred2[:,0]*target_previous[:-1])/1000 +target_previous[:-1]\n",
        "pre=pd.DataFrame(p, columns = ['Prediction'])\n",
        "pre[\"Date\"]=date[+size+1:len(X)]\n",
        "pre.set_index('Date', inplace=True)"
      ],
      "execution_count": null,
      "outputs": []
    },
    {
      "cell_type": "code",
      "metadata": {
        "id": "wPpjpAH8UKTP"
      },
      "source": [
        "pre=pd.DataFrame(p, columns = ['Prediction'])\n",
        "pre[\"Date\"]=date[+size+1:len(X)]\n",
        "pre.set_index('Date', inplace=True)\n",
        "\n",
        "\n",
        "t2=pd.DataFrame(Y[size:len(X)], columns = ['Real Rate'])\n",
        "t2[\"Date\"]=date[size:len(X)]\n",
        "t2.set_index('Date', inplace=True)"
      ],
      "execution_count": null,
      "outputs": []
    },
    {
      "cell_type": "code",
      "metadata": {
        "id": "Hnyg8U2WVsz5"
      },
      "source": [
        "plot_predictions(t2,pre)"
      ],
      "execution_count": null,
      "outputs": []
    },
    {
      "cell_type": "code",
      "metadata": {
        "id": "6x342uwtV2P5"
      },
      "source": [
        "return_rmse(Y[size+1:len(X)],p[:])"
      ],
      "execution_count": null,
      "outputs": []
    },
    {
      "cell_type": "markdown",
      "metadata": {
        "id": "xZXMpJdlVd2g"
      },
      "source": [
        "### d. One-by-one prediction"
      ]
    },
    {
      "cell_type": "code",
      "metadata": {
        "id": "Ifnsw9CzUlPI",
        "colab": {
          "base_uri": "https://localhost:8080/",
          "height": 1000
        },
        "outputId": "321e8530-d0ba-4daa-e435-784ccb4d7bd1"
      },
      "source": [
        "pred=[]\n",
        "X2=X_train\n",
        "y2=y_train\n",
        "for i in range(len(X_test)-1):\n",
        "  model.reset_states() \n",
        "  x=X_test[i]\n",
        "  x=x[..., np.newaxis]\n",
        "  x = np.array(x)\n",
        "  x = np.reshape(x, (1,x.shape[0],x.shape[1]))\n",
        "  np.append(X2,x,axis=0)\n",
        "  X2=X2[1:]\n",
        "\n",
        "  y=y_test[i]\n",
        "  y=y[..., np.newaxis]\n",
        "  y = np.array(y)\n",
        "\n",
        "  np.append(y2,y,axis=0)\n",
        "  y2=y2[1:]\n",
        "  #model.fit(x,np.reshape(np.array(y_test[i]),(1,1)) , epochs=3)\n",
        "  model.fit(X2,y2,epochs=15, callbacks=[callbacks2])\n",
        "\n",
        "  x=X_test[i+1]\n",
        "  x=x[..., np.newaxis]\n",
        "  x = np.array(x)\n",
        "  x = np.reshape(x, (1,x.shape[0],x.shape[1]))\n",
        "  pred.append(model.predict(x))"
      ],
      "execution_count": null,
      "outputs": [
        {
          "output_type": "stream",
          "text": [
            "Epoch 1/15\n",
            "20/20 [==============================] - 0s 1ms/step - loss: 2.4148\n",
            "Epoch 2/15\n",
            "20/20 [==============================] - 0s 1ms/step - loss: 2.3879\n",
            "Epoch 3/15\n",
            "20/20 [==============================] - 0s 1ms/step - loss: 2.3724\n",
            "Epoch 4/15\n",
            "20/20 [==============================] - 0s 1ms/step - loss: 2.3745\n",
            "Epoch 5/15\n",
            "20/20 [==============================] - 0s 1ms/step - loss: 2.3750\n",
            "Epoch 6/15\n",
            "20/20 [==============================] - 0s 1ms/step - loss: 2.3781\n",
            "Epoch 7/15\n",
            "20/20 [==============================] - 0s 1ms/step - loss: 2.3823\n",
            "Epoch 8/15\n",
            "20/20 [==============================] - 0s 1ms/step - loss: 2.3788\n",
            "Epoch 9/15\n",
            "20/20 [==============================] - 0s 1ms/step - loss: 2.3768\n",
            "Epoch 10/15\n",
            "20/20 [==============================] - 0s 1ms/step - loss: 2.3803\n",
            "Epoch 11/15\n",
            "20/20 [==============================] - 0s 1ms/step - loss: 2.3820\n",
            "Epoch 12/15\n",
            "20/20 [==============================] - 0s 1ms/step - loss: 2.3790\n",
            "Epoch 13/15\n",
            "20/20 [==============================] - 0s 1ms/step - loss: 2.3778\n",
            "Epoch 14/15\n",
            "20/20 [==============================] - 0s 1ms/step - loss: 2.3758\n",
            "Epoch 15/15\n",
            "20/20 [==============================] - 0s 1ms/step - loss: 2.3748\n",
            "Epoch 1/15\n",
            "20/20 [==============================] - 0s 1ms/step - loss: 2.3728\n",
            "Epoch 2/15\n",
            "20/20 [==============================] - 0s 1ms/step - loss: 2.3741\n",
            "Epoch 3/15\n",
            "20/20 [==============================] - 0s 1ms/step - loss: 2.3762\n",
            "Epoch 4/15\n",
            "20/20 [==============================] - 0s 1ms/step - loss: 2.3775\n",
            "Epoch 5/15\n",
            "20/20 [==============================] - 0s 1ms/step - loss: 2.3707\n",
            "Epoch 6/15\n",
            "20/20 [==============================] - 0s 1ms/step - loss: 2.3713\n",
            "Epoch 7/15\n",
            "20/20 [==============================] - 0s 1ms/step - loss: 2.3849\n",
            "Epoch 8/15\n",
            "20/20 [==============================] - 0s 1ms/step - loss: 2.3713\n",
            "Epoch 9/15\n",
            "20/20 [==============================] - 0s 1ms/step - loss: 2.3741\n",
            "Epoch 10/15\n",
            "20/20 [==============================] - 0s 1ms/step - loss: 2.3736\n",
            "Epoch 11/15\n",
            "20/20 [==============================] - 0s 1ms/step - loss: 2.3784\n",
            "Epoch 12/15\n",
            "20/20 [==============================] - 0s 2ms/step - loss: 2.3715\n",
            "Epoch 13/15\n",
            "20/20 [==============================] - 0s 1ms/step - loss: 2.3718\n",
            "Epoch 14/15\n",
            "20/20 [==============================] - 0s 1ms/step - loss: 2.3769\n",
            "Epoch 15/15\n",
            "20/20 [==============================] - 0s 1ms/step - loss: 2.3874\n",
            "Epoch 1/15\n",
            "20/20 [==============================] - 0s 1ms/step - loss: 2.3726\n",
            "Epoch 2/15\n",
            "20/20 [==============================] - 0s 1ms/step - loss: 2.3710\n",
            "Epoch 3/15\n",
            "20/20 [==============================] - 0s 1ms/step - loss: 2.3724\n",
            "Epoch 4/15\n",
            "20/20 [==============================] - 0s 1ms/step - loss: 2.3711\n",
            "Epoch 5/15\n",
            "20/20 [==============================] - 0s 1ms/step - loss: 2.3681\n",
            "Epoch 6/15\n",
            "20/20 [==============================] - 0s 1ms/step - loss: 2.3772\n",
            "Epoch 7/15\n",
            "20/20 [==============================] - 0s 1ms/step - loss: 2.3762\n",
            "Epoch 8/15\n",
            "20/20 [==============================] - 0s 1ms/step - loss: 2.3685\n",
            "Epoch 9/15\n",
            "20/20 [==============================] - 0s 1ms/step - loss: 2.3790\n",
            "Epoch 10/15\n",
            "20/20 [==============================] - 0s 1ms/step - loss: 2.3680\n",
            "Epoch 11/15\n",
            "20/20 [==============================] - 0s 1ms/step - loss: 2.3637\n",
            "Epoch 12/15\n",
            "20/20 [==============================] - 0s 1ms/step - loss: 2.3670\n",
            "Epoch 13/15\n",
            "20/20 [==============================] - 0s 1ms/step - loss: 2.3691\n",
            "Epoch 14/15\n",
            "20/20 [==============================] - 0s 1ms/step - loss: 2.3664\n",
            "Epoch 15/15\n",
            "20/20 [==============================] - 0s 1ms/step - loss: 2.3628\n",
            "Epoch 1/15\n",
            "20/20 [==============================] - 0s 1ms/step - loss: 2.3768\n",
            "Epoch 2/15\n",
            "20/20 [==============================] - 0s 1ms/step - loss: 2.3782\n",
            "Epoch 3/15\n",
            "20/20 [==============================] - 0s 1ms/step - loss: 2.3669\n",
            "Epoch 4/15\n",
            "20/20 [==============================] - 0s 1ms/step - loss: 2.3674\n",
            "Epoch 5/15\n",
            "20/20 [==============================] - 0s 1ms/step - loss: 2.3699\n",
            "Epoch 6/15\n",
            "20/20 [==============================] - 0s 1ms/step - loss: 2.3801\n",
            "Epoch 7/15\n",
            "20/20 [==============================] - 0s 1ms/step - loss: 2.3844\n",
            "Epoch 8/15\n",
            "20/20 [==============================] - 0s 1ms/step - loss: 2.3641\n",
            "Epoch 9/15\n",
            "20/20 [==============================] - 0s 1ms/step - loss: 2.3737\n",
            "Epoch 10/15\n",
            "20/20 [==============================] - 0s 1ms/step - loss: 2.3644\n",
            "Epoch 11/15\n",
            "20/20 [==============================] - 0s 1ms/step - loss: 2.3657\n",
            "Epoch 12/15\n",
            "20/20 [==============================] - 0s 1ms/step - loss: 2.3639\n",
            "Epoch 13/15\n",
            "20/20 [==============================] - 0s 1ms/step - loss: 2.3676\n",
            "Epoch 14/15\n",
            "20/20 [==============================] - 0s 1ms/step - loss: 2.3617\n",
            "Epoch 15/15\n",
            "20/20 [==============================] - 0s 1ms/step - loss: 2.3629\n",
            "Epoch 1/15\n",
            "20/20 [==============================] - 0s 1ms/step - loss: 2.3599\n",
            "Epoch 2/15\n",
            "20/20 [==============================] - 0s 1ms/step - loss: 2.3599\n",
            "Epoch 3/15\n",
            "20/20 [==============================] - 0s 1ms/step - loss: 2.3603\n",
            "Epoch 4/15\n",
            "20/20 [==============================] - 0s 1ms/step - loss: 2.3562\n",
            "Epoch 5/15\n",
            "20/20 [==============================] - 0s 1ms/step - loss: 2.3670\n",
            "Epoch 6/15\n",
            "20/20 [==============================] - 0s 1ms/step - loss: 2.3651\n",
            "Epoch 7/15\n",
            "20/20 [==============================] - 0s 1ms/step - loss: 2.3724\n",
            "Epoch 8/15\n",
            "20/20 [==============================] - 0s 1ms/step - loss: 2.3602\n",
            "Epoch 9/15\n",
            "20/20 [==============================] - 0s 1ms/step - loss: 2.3668\n",
            "Epoch 10/15\n",
            "20/20 [==============================] - 0s 1ms/step - loss: 2.3694\n",
            "Epoch 11/15\n",
            "20/20 [==============================] - 0s 1ms/step - loss: 2.3591\n",
            "Epoch 12/15\n",
            "20/20 [==============================] - 0s 1ms/step - loss: 2.3601\n",
            "Epoch 13/15\n",
            "20/20 [==============================] - 0s 1ms/step - loss: 2.3566\n",
            "Epoch 14/15\n",
            "20/20 [==============================] - 0s 1ms/step - loss: 2.3643\n",
            "Epoch 15/15\n",
            "20/20 [==============================] - 0s 1ms/step - loss: 2.3672\n",
            "Epoch 1/15\n",
            "20/20 [==============================] - 0s 1ms/step - loss: 2.3622\n",
            "Epoch 2/15\n",
            "20/20 [==============================] - 0s 1ms/step - loss: 2.3740\n",
            "Epoch 3/15\n",
            "20/20 [==============================] - 0s 2ms/step - loss: 2.3527\n",
            "Epoch 4/15\n",
            "20/20 [==============================] - 0s 2ms/step - loss: 2.3650\n",
            "Epoch 5/15\n",
            "20/20 [==============================] - 0s 1ms/step - loss: 2.3625\n",
            "Epoch 6/15\n",
            "20/20 [==============================] - 0s 2ms/step - loss: 2.3547\n",
            "Epoch 7/15\n",
            "20/20 [==============================] - 0s 1ms/step - loss: 2.3601\n",
            "Epoch 8/15\n",
            "20/20 [==============================] - 0s 1ms/step - loss: 2.3611\n",
            "Epoch 9/15\n",
            "20/20 [==============================] - 0s 1ms/step - loss: 2.3632\n",
            "Epoch 10/15\n",
            "20/20 [==============================] - 0s 1ms/step - loss: 2.3572\n",
            "Epoch 11/15\n",
            "20/20 [==============================] - 0s 1ms/step - loss: 2.3627\n",
            "Epoch 12/15\n",
            "20/20 [==============================] - 0s 1ms/step - loss: 2.3604\n",
            "Epoch 13/15\n",
            "20/20 [==============================] - 0s 1ms/step - loss: 2.3540\n",
            "Epoch 14/15\n",
            "20/20 [==============================] - 0s 1ms/step - loss: 2.3582\n",
            "Epoch 15/15\n",
            "20/20 [==============================] - 0s 1ms/step - loss: 2.3529\n",
            "Epoch 1/15\n",
            "20/20 [==============================] - 0s 1ms/step - loss: 2.3540\n",
            "Epoch 2/15\n",
            "20/20 [==============================] - 0s 1ms/step - loss: 2.3656\n",
            "Epoch 3/15\n",
            "20/20 [==============================] - 0s 1ms/step - loss: 2.3635\n",
            "Epoch 4/15\n",
            "20/20 [==============================] - 0s 1ms/step - loss: 2.3561\n",
            "Epoch 5/15\n",
            "20/20 [==============================] - 0s 1ms/step - loss: 2.3755\n",
            "Epoch 6/15\n",
            "20/20 [==============================] - 0s 1ms/step - loss: 2.3726\n",
            "Epoch 7/15\n",
            "20/20 [==============================] - 0s 1ms/step - loss: 2.3600\n",
            "Epoch 8/15\n",
            "20/20 [==============================] - 0s 1ms/step - loss: 2.3572\n",
            "Epoch 9/15\n",
            "20/20 [==============================] - 0s 1ms/step - loss: 2.3655\n",
            "Epoch 10/15\n",
            "20/20 [==============================] - 0s 1ms/step - loss: 2.3640\n",
            "Epoch 11/15\n",
            "20/20 [==============================] - 0s 1ms/step - loss: 2.3582\n",
            "Epoch 12/15\n",
            "20/20 [==============================] - 0s 1ms/step - loss: 2.3557\n",
            "Epoch 13/15\n",
            "20/20 [==============================] - 0s 1ms/step - loss: 2.3561\n",
            "Epoch 14/15\n",
            "20/20 [==============================] - 0s 1ms/step - loss: 2.3624\n",
            "Epoch 15/15\n",
            "20/20 [==============================] - 0s 1ms/step - loss: 2.3590\n",
            "Epoch 1/15\n",
            "20/20 [==============================] - 0s 1ms/step - loss: 2.3579\n",
            "Epoch 2/15\n",
            "20/20 [==============================] - 0s 1ms/step - loss: 2.3777\n",
            "Epoch 3/15\n",
            "20/20 [==============================] - 0s 1ms/step - loss: 2.3656\n",
            "Epoch 4/15\n",
            "20/20 [==============================] - 0s 1ms/step - loss: 2.3651\n",
            "Epoch 5/15\n",
            "20/20 [==============================] - 0s 1ms/step - loss: 2.3584\n",
            "Epoch 6/15\n",
            "20/20 [==============================] - 0s 2ms/step - loss: 2.3527\n",
            "Epoch 7/15\n",
            "20/20 [==============================] - 0s 1ms/step - loss: 2.3585\n",
            "Epoch 8/15\n",
            "20/20 [==============================] - 0s 1ms/step - loss: 2.3633\n",
            "Epoch 9/15\n",
            "20/20 [==============================] - 0s 1ms/step - loss: 2.3545\n",
            "Epoch 10/15\n",
            "20/20 [==============================] - 0s 1ms/step - loss: 2.3578\n",
            "Epoch 11/15\n",
            "20/20 [==============================] - 0s 1ms/step - loss: 2.3677\n",
            "Epoch 12/15\n",
            "20/20 [==============================] - 0s 1ms/step - loss: 2.3652\n",
            "Epoch 13/15\n",
            "20/20 [==============================] - 0s 1ms/step - loss: 2.3522\n",
            "Epoch 14/15\n",
            "20/20 [==============================] - 0s 1ms/step - loss: 2.3578\n",
            "Epoch 15/15\n",
            "20/20 [==============================] - 0s 1ms/step - loss: 2.3530\n",
            "Epoch 1/15\n",
            "20/20 [==============================] - 0s 1ms/step - loss: 2.3587\n",
            "Epoch 2/15\n",
            "20/20 [==============================] - 0s 1ms/step - loss: 2.3568\n",
            "Epoch 3/15\n",
            "20/20 [==============================] - 0s 1ms/step - loss: 2.3678\n",
            "Epoch 4/15\n",
            "20/20 [==============================] - 0s 1ms/step - loss: 2.3509\n",
            "Epoch 5/15\n",
            "20/20 [==============================] - 0s 2ms/step - loss: 2.3545\n",
            "Epoch 6/15\n",
            "20/20 [==============================] - 0s 1ms/step - loss: 2.3713\n",
            "Epoch 7/15\n",
            "20/20 [==============================] - 0s 1ms/step - loss: 2.3541\n",
            "Epoch 8/15\n",
            "20/20 [==============================] - 0s 1ms/step - loss: 2.3518\n",
            "Epoch 9/15\n",
            "20/20 [==============================] - 0s 1ms/step - loss: 2.3636\n",
            "Epoch 10/15\n",
            "20/20 [==============================] - 0s 1ms/step - loss: 2.3538\n",
            "Epoch 11/15\n",
            "20/20 [==============================] - 0s 1ms/step - loss: 2.3554\n",
            "Epoch 12/15\n",
            "20/20 [==============================] - 0s 1ms/step - loss: 2.3583\n",
            "Epoch 13/15\n",
            "20/20 [==============================] - 0s 1ms/step - loss: 2.3515\n",
            "Epoch 14/15\n",
            "20/20 [==============================] - 0s 1ms/step - loss: 2.3583\n",
            "Epoch 15/15\n",
            "20/20 [==============================] - 0s 2ms/step - loss: 2.3529\n",
            "Epoch 1/15\n",
            "20/20 [==============================] - 0s 1ms/step - loss: 2.3588\n",
            "Epoch 2/15\n",
            "20/20 [==============================] - 0s 1ms/step - loss: 2.3548\n",
            "Epoch 3/15\n",
            "20/20 [==============================] - 0s 1ms/step - loss: 2.3561\n",
            "Epoch 4/15\n",
            "20/20 [==============================] - 0s 1ms/step - loss: 2.3577\n",
            "Epoch 5/15\n",
            "20/20 [==============================] - 0s 2ms/step - loss: 2.3613\n",
            "Epoch 6/15\n",
            "20/20 [==============================] - 0s 1ms/step - loss: 2.3524\n",
            "Epoch 7/15\n",
            "20/20 [==============================] - 0s 1ms/step - loss: 2.3593\n",
            "Epoch 8/15\n",
            "20/20 [==============================] - 0s 1ms/step - loss: 2.3565\n",
            "Epoch 9/15\n",
            "20/20 [==============================] - 0s 1ms/step - loss: 2.3511\n",
            "Epoch 10/15\n",
            "20/20 [==============================] - 0s 1ms/step - loss: 2.3617\n",
            "Epoch 11/15\n",
            "20/20 [==============================] - 0s 2ms/step - loss: 2.3620\n",
            "Epoch 12/15\n",
            "20/20 [==============================] - 0s 1ms/step - loss: 2.3528\n",
            "Epoch 13/15\n",
            "20/20 [==============================] - 0s 1ms/step - loss: 2.3554\n",
            "Epoch 14/15\n",
            "20/20 [==============================] - 0s 1ms/step - loss: 2.3552\n",
            "Epoch 15/15\n",
            "20/20 [==============================] - 0s 1ms/step - loss: 2.3592\n",
            "Epoch 1/15\n",
            "20/20 [==============================] - 0s 1ms/step - loss: 2.3526\n",
            "Epoch 2/15\n",
            "20/20 [==============================] - 0s 1ms/step - loss: 2.3586\n",
            "Epoch 3/15\n",
            "20/20 [==============================] - 0s 1ms/step - loss: 2.3587\n",
            "Epoch 4/15\n",
            "20/20 [==============================] - 0s 1ms/step - loss: 2.3558\n",
            "Epoch 5/15\n",
            "20/20 [==============================] - 0s 1ms/step - loss: 2.3523\n",
            "Epoch 6/15\n",
            "20/20 [==============================] - 0s 1ms/step - loss: 2.3525\n",
            "Epoch 7/15\n",
            "20/20 [==============================] - 0s 1ms/step - loss: 2.3504\n",
            "Epoch 8/15\n",
            "20/20 [==============================] - 0s 1ms/step - loss: 2.3468\n",
            "Epoch 9/15\n",
            "20/20 [==============================] - 0s 1ms/step - loss: 2.3581\n",
            "Epoch 10/15\n",
            "20/20 [==============================] - 0s 1ms/step - loss: 2.3509\n",
            "Epoch 11/15\n",
            "20/20 [==============================] - 0s 1ms/step - loss: 2.3503\n",
            "Epoch 12/15\n",
            "20/20 [==============================] - 0s 2ms/step - loss: 2.3566\n",
            "Epoch 13/15\n",
            "20/20 [==============================] - 0s 1ms/step - loss: 2.3536\n",
            "Epoch 14/15\n",
            "20/20 [==============================] - 0s 1ms/step - loss: 2.3481\n",
            "Epoch 15/15\n",
            "20/20 [==============================] - 0s 1ms/step - loss: 2.3517\n",
            "Epoch 1/15\n",
            "20/20 [==============================] - 0s 1ms/step - loss: 2.3530\n",
            "Epoch 2/15\n",
            "20/20 [==============================] - 0s 1ms/step - loss: 2.3572\n",
            "Epoch 3/15\n",
            "20/20 [==============================] - 0s 2ms/step - loss: 2.3575\n",
            "Epoch 4/15\n",
            "20/20 [==============================] - 0s 1ms/step - loss: 2.3501\n",
            "Epoch 5/15\n",
            "20/20 [==============================] - 0s 1ms/step - loss: 2.3539\n",
            "Epoch 6/15\n",
            "20/20 [==============================] - 0s 1ms/step - loss: 2.3495\n",
            "Epoch 7/15\n",
            "20/20 [==============================] - 0s 1ms/step - loss: 2.3595\n",
            "Epoch 8/15\n",
            "20/20 [==============================] - 0s 1ms/step - loss: 2.3655\n",
            "Epoch 9/15\n",
            "20/20 [==============================] - 0s 1ms/step - loss: 2.3519\n",
            "Epoch 10/15\n",
            "20/20 [==============================] - 0s 1ms/step - loss: 2.3581\n",
            "Epoch 11/15\n",
            "20/20 [==============================] - 0s 1ms/step - loss: 2.3597\n",
            "Epoch 12/15\n",
            "20/20 [==============================] - 0s 1ms/step - loss: 2.3529\n",
            "Epoch 13/15\n",
            "20/20 [==============================] - 0s 1ms/step - loss: 2.3502\n",
            "Epoch 14/15\n",
            "20/20 [==============================] - 0s 1ms/step - loss: 2.3542\n",
            "Epoch 15/15\n",
            "20/20 [==============================] - 0s 1ms/step - loss: 2.3601\n",
            "Epoch 1/15\n",
            "20/20 [==============================] - 0s 1ms/step - loss: 2.3509\n",
            "Epoch 2/15\n",
            "20/20 [==============================] - 0s 1ms/step - loss: 2.3480\n",
            "Epoch 3/15\n",
            "20/20 [==============================] - 0s 1ms/step - loss: 2.3564\n",
            "Epoch 4/15\n",
            " 1/20 [>.............................] - ETA: 0s - loss: 1.8711"
          ],
          "name": "stdout"
        },
        {
          "output_type": "error",
          "ename": "KeyboardInterrupt",
          "evalue": "ignored",
          "traceback": [
            "\u001b[0;31m---------------------------------------------------------------------------\u001b[0m",
            "\u001b[0;31mKeyboardInterrupt\u001b[0m                         Traceback (most recent call last)",
            "\u001b[0;32m<ipython-input-44-c5a1eb2cb099>\u001b[0m in \u001b[0;36m<module>\u001b[0;34m()\u001b[0m\n\u001b[1;32m     18\u001b[0m   \u001b[0my2\u001b[0m\u001b[0;34m=\u001b[0m\u001b[0my2\u001b[0m\u001b[0;34m[\u001b[0m\u001b[0;36m1\u001b[0m\u001b[0;34m:\u001b[0m\u001b[0;34m]\u001b[0m\u001b[0;34m\u001b[0m\u001b[0;34m\u001b[0m\u001b[0m\n\u001b[1;32m     19\u001b[0m   \u001b[0;31m#model.fit(x,np.reshape(np.array(y_test[i]),(1,1)) , epochs=3)\u001b[0m\u001b[0;34m\u001b[0m\u001b[0;34m\u001b[0m\u001b[0;34m\u001b[0m\u001b[0m\n\u001b[0;32m---> 20\u001b[0;31m   \u001b[0mmodel\u001b[0m\u001b[0;34m.\u001b[0m\u001b[0mfit\u001b[0m\u001b[0;34m(\u001b[0m\u001b[0mX2\u001b[0m\u001b[0;34m,\u001b[0m\u001b[0my2\u001b[0m\u001b[0;34m,\u001b[0m\u001b[0mepochs\u001b[0m\u001b[0;34m=\u001b[0m\u001b[0;36m15\u001b[0m\u001b[0;34m,\u001b[0m \u001b[0mcallbacks\u001b[0m\u001b[0;34m=\u001b[0m\u001b[0;34m[\u001b[0m\u001b[0mcallbacks2\u001b[0m\u001b[0;34m]\u001b[0m\u001b[0;34m)\u001b[0m\u001b[0;34m\u001b[0m\u001b[0;34m\u001b[0m\u001b[0m\n\u001b[0m\u001b[1;32m     21\u001b[0m \u001b[0;34m\u001b[0m\u001b[0m\n\u001b[1;32m     22\u001b[0m   \u001b[0mx\u001b[0m\u001b[0;34m=\u001b[0m\u001b[0mX_test\u001b[0m\u001b[0;34m[\u001b[0m\u001b[0mi\u001b[0m\u001b[0;34m+\u001b[0m\u001b[0;36m1\u001b[0m\u001b[0;34m]\u001b[0m\u001b[0;34m\u001b[0m\u001b[0;34m\u001b[0m\u001b[0m\n",
            "\u001b[0;32m/usr/local/lib/python3.6/dist-packages/tensorflow/python/keras/engine/training.py\u001b[0m in \u001b[0;36m_method_wrapper\u001b[0;34m(self, *args, **kwargs)\u001b[0m\n\u001b[1;32m    106\u001b[0m   \u001b[0;32mdef\u001b[0m \u001b[0m_method_wrapper\u001b[0m\u001b[0;34m(\u001b[0m\u001b[0mself\u001b[0m\u001b[0;34m,\u001b[0m \u001b[0;34m*\u001b[0m\u001b[0margs\u001b[0m\u001b[0;34m,\u001b[0m \u001b[0;34m**\u001b[0m\u001b[0mkwargs\u001b[0m\u001b[0;34m)\u001b[0m\u001b[0;34m:\u001b[0m\u001b[0;34m\u001b[0m\u001b[0;34m\u001b[0m\u001b[0m\n\u001b[1;32m    107\u001b[0m     \u001b[0;32mif\u001b[0m \u001b[0;32mnot\u001b[0m \u001b[0mself\u001b[0m\u001b[0;34m.\u001b[0m\u001b[0m_in_multi_worker_mode\u001b[0m\u001b[0;34m(\u001b[0m\u001b[0;34m)\u001b[0m\u001b[0;34m:\u001b[0m  \u001b[0;31m# pylint: disable=protected-access\u001b[0m\u001b[0;34m\u001b[0m\u001b[0;34m\u001b[0m\u001b[0m\n\u001b[0;32m--> 108\u001b[0;31m       \u001b[0;32mreturn\u001b[0m \u001b[0mmethod\u001b[0m\u001b[0;34m(\u001b[0m\u001b[0mself\u001b[0m\u001b[0;34m,\u001b[0m \u001b[0;34m*\u001b[0m\u001b[0margs\u001b[0m\u001b[0;34m,\u001b[0m \u001b[0;34m**\u001b[0m\u001b[0mkwargs\u001b[0m\u001b[0;34m)\u001b[0m\u001b[0;34m\u001b[0m\u001b[0;34m\u001b[0m\u001b[0m\n\u001b[0m\u001b[1;32m    109\u001b[0m \u001b[0;34m\u001b[0m\u001b[0m\n\u001b[1;32m    110\u001b[0m     \u001b[0;31m# Running inside `run_distribute_coordinator` already.\u001b[0m\u001b[0;34m\u001b[0m\u001b[0;34m\u001b[0m\u001b[0;34m\u001b[0m\u001b[0m\n",
            "\u001b[0;32m/usr/local/lib/python3.6/dist-packages/tensorflow/python/keras/engine/training.py\u001b[0m in \u001b[0;36mfit\u001b[0;34m(self, x, y, batch_size, epochs, verbose, callbacks, validation_split, validation_data, shuffle, class_weight, sample_weight, initial_epoch, steps_per_epoch, validation_steps, validation_batch_size, validation_freq, max_queue_size, workers, use_multiprocessing)\u001b[0m\n\u001b[1;32m   1096\u001b[0m                 batch_size=batch_size):\n\u001b[1;32m   1097\u001b[0m               \u001b[0mcallbacks\u001b[0m\u001b[0;34m.\u001b[0m\u001b[0mon_train_batch_begin\u001b[0m\u001b[0;34m(\u001b[0m\u001b[0mstep\u001b[0m\u001b[0;34m)\u001b[0m\u001b[0;34m\u001b[0m\u001b[0;34m\u001b[0m\u001b[0m\n\u001b[0;32m-> 1098\u001b[0;31m               \u001b[0mtmp_logs\u001b[0m \u001b[0;34m=\u001b[0m \u001b[0mtrain_function\u001b[0m\u001b[0;34m(\u001b[0m\u001b[0miterator\u001b[0m\u001b[0;34m)\u001b[0m\u001b[0;34m\u001b[0m\u001b[0;34m\u001b[0m\u001b[0m\n\u001b[0m\u001b[1;32m   1099\u001b[0m               \u001b[0;32mif\u001b[0m \u001b[0mdata_handler\u001b[0m\u001b[0;34m.\u001b[0m\u001b[0mshould_sync\u001b[0m\u001b[0;34m:\u001b[0m\u001b[0;34m\u001b[0m\u001b[0;34m\u001b[0m\u001b[0m\n\u001b[1;32m   1100\u001b[0m                 \u001b[0mcontext\u001b[0m\u001b[0;34m.\u001b[0m\u001b[0masync_wait\u001b[0m\u001b[0;34m(\u001b[0m\u001b[0;34m)\u001b[0m\u001b[0;34m\u001b[0m\u001b[0;34m\u001b[0m\u001b[0m\n",
            "\u001b[0;32m/usr/local/lib/python3.6/dist-packages/tensorflow/python/eager/def_function.py\u001b[0m in \u001b[0;36m__call__\u001b[0;34m(self, *args, **kwds)\u001b[0m\n\u001b[1;32m    778\u001b[0m       \u001b[0;32melse\u001b[0m\u001b[0;34m:\u001b[0m\u001b[0;34m\u001b[0m\u001b[0;34m\u001b[0m\u001b[0m\n\u001b[1;32m    779\u001b[0m         \u001b[0mcompiler\u001b[0m \u001b[0;34m=\u001b[0m \u001b[0;34m\"nonXla\"\u001b[0m\u001b[0;34m\u001b[0m\u001b[0;34m\u001b[0m\u001b[0m\n\u001b[0;32m--> 780\u001b[0;31m         \u001b[0mresult\u001b[0m \u001b[0;34m=\u001b[0m \u001b[0mself\u001b[0m\u001b[0;34m.\u001b[0m\u001b[0m_call\u001b[0m\u001b[0;34m(\u001b[0m\u001b[0;34m*\u001b[0m\u001b[0margs\u001b[0m\u001b[0;34m,\u001b[0m \u001b[0;34m**\u001b[0m\u001b[0mkwds\u001b[0m\u001b[0;34m)\u001b[0m\u001b[0;34m\u001b[0m\u001b[0;34m\u001b[0m\u001b[0m\n\u001b[0m\u001b[1;32m    781\u001b[0m \u001b[0;34m\u001b[0m\u001b[0m\n\u001b[1;32m    782\u001b[0m       \u001b[0mnew_tracing_count\u001b[0m \u001b[0;34m=\u001b[0m \u001b[0mself\u001b[0m\u001b[0;34m.\u001b[0m\u001b[0m_get_tracing_count\u001b[0m\u001b[0;34m(\u001b[0m\u001b[0;34m)\u001b[0m\u001b[0;34m\u001b[0m\u001b[0;34m\u001b[0m\u001b[0m\n",
            "\u001b[0;32m/usr/local/lib/python3.6/dist-packages/tensorflow/python/eager/def_function.py\u001b[0m in \u001b[0;36m_call\u001b[0;34m(self, *args, **kwds)\u001b[0m\n\u001b[1;32m    805\u001b[0m       \u001b[0;31m# In this case we have created variables on the first call, so we run the\u001b[0m\u001b[0;34m\u001b[0m\u001b[0;34m\u001b[0m\u001b[0;34m\u001b[0m\u001b[0m\n\u001b[1;32m    806\u001b[0m       \u001b[0;31m# defunned version which is guaranteed to never create variables.\u001b[0m\u001b[0;34m\u001b[0m\u001b[0;34m\u001b[0m\u001b[0;34m\u001b[0m\u001b[0m\n\u001b[0;32m--> 807\u001b[0;31m       \u001b[0;32mreturn\u001b[0m \u001b[0mself\u001b[0m\u001b[0;34m.\u001b[0m\u001b[0m_stateless_fn\u001b[0m\u001b[0;34m(\u001b[0m\u001b[0;34m*\u001b[0m\u001b[0margs\u001b[0m\u001b[0;34m,\u001b[0m \u001b[0;34m**\u001b[0m\u001b[0mkwds\u001b[0m\u001b[0;34m)\u001b[0m  \u001b[0;31m# pylint: disable=not-callable\u001b[0m\u001b[0;34m\u001b[0m\u001b[0;34m\u001b[0m\u001b[0m\n\u001b[0m\u001b[1;32m    808\u001b[0m     \u001b[0;32melif\u001b[0m \u001b[0mself\u001b[0m\u001b[0;34m.\u001b[0m\u001b[0m_stateful_fn\u001b[0m \u001b[0;32mis\u001b[0m \u001b[0;32mnot\u001b[0m \u001b[0;32mNone\u001b[0m\u001b[0;34m:\u001b[0m\u001b[0;34m\u001b[0m\u001b[0;34m\u001b[0m\u001b[0m\n\u001b[1;32m    809\u001b[0m       \u001b[0;31m# Release the lock early so that multiple threads can perform the call\u001b[0m\u001b[0;34m\u001b[0m\u001b[0;34m\u001b[0m\u001b[0;34m\u001b[0m\u001b[0m\n",
            "\u001b[0;32m/usr/local/lib/python3.6/dist-packages/tensorflow/python/eager/function.py\u001b[0m in \u001b[0;36m__call__\u001b[0;34m(self, *args, **kwargs)\u001b[0m\n\u001b[1;32m   2827\u001b[0m     \u001b[0;32mwith\u001b[0m \u001b[0mself\u001b[0m\u001b[0;34m.\u001b[0m\u001b[0m_lock\u001b[0m\u001b[0;34m:\u001b[0m\u001b[0;34m\u001b[0m\u001b[0;34m\u001b[0m\u001b[0m\n\u001b[1;32m   2828\u001b[0m       \u001b[0mgraph_function\u001b[0m\u001b[0;34m,\u001b[0m \u001b[0margs\u001b[0m\u001b[0;34m,\u001b[0m \u001b[0mkwargs\u001b[0m \u001b[0;34m=\u001b[0m \u001b[0mself\u001b[0m\u001b[0;34m.\u001b[0m\u001b[0m_maybe_define_function\u001b[0m\u001b[0;34m(\u001b[0m\u001b[0margs\u001b[0m\u001b[0;34m,\u001b[0m \u001b[0mkwargs\u001b[0m\u001b[0;34m)\u001b[0m\u001b[0;34m\u001b[0m\u001b[0;34m\u001b[0m\u001b[0m\n\u001b[0;32m-> 2829\u001b[0;31m     \u001b[0;32mreturn\u001b[0m \u001b[0mgraph_function\u001b[0m\u001b[0;34m.\u001b[0m\u001b[0m_filtered_call\u001b[0m\u001b[0;34m(\u001b[0m\u001b[0margs\u001b[0m\u001b[0;34m,\u001b[0m \u001b[0mkwargs\u001b[0m\u001b[0;34m)\u001b[0m  \u001b[0;31m# pylint: disable=protected-access\u001b[0m\u001b[0;34m\u001b[0m\u001b[0;34m\u001b[0m\u001b[0m\n\u001b[0m\u001b[1;32m   2830\u001b[0m \u001b[0;34m\u001b[0m\u001b[0m\n\u001b[1;32m   2831\u001b[0m   \u001b[0;34m@\u001b[0m\u001b[0mproperty\u001b[0m\u001b[0;34m\u001b[0m\u001b[0;34m\u001b[0m\u001b[0m\n",
            "\u001b[0;32m/usr/local/lib/python3.6/dist-packages/tensorflow/python/eager/function.py\u001b[0m in \u001b[0;36m_filtered_call\u001b[0;34m(self, args, kwargs, cancellation_manager)\u001b[0m\n\u001b[1;32m   1846\u001b[0m                            resource_variable_ops.BaseResourceVariable))],\n\u001b[1;32m   1847\u001b[0m         \u001b[0mcaptured_inputs\u001b[0m\u001b[0;34m=\u001b[0m\u001b[0mself\u001b[0m\u001b[0;34m.\u001b[0m\u001b[0mcaptured_inputs\u001b[0m\u001b[0;34m,\u001b[0m\u001b[0;34m\u001b[0m\u001b[0;34m\u001b[0m\u001b[0m\n\u001b[0;32m-> 1848\u001b[0;31m         cancellation_manager=cancellation_manager)\n\u001b[0m\u001b[1;32m   1849\u001b[0m \u001b[0;34m\u001b[0m\u001b[0m\n\u001b[1;32m   1850\u001b[0m   \u001b[0;32mdef\u001b[0m \u001b[0m_call_flat\u001b[0m\u001b[0;34m(\u001b[0m\u001b[0mself\u001b[0m\u001b[0;34m,\u001b[0m \u001b[0margs\u001b[0m\u001b[0;34m,\u001b[0m \u001b[0mcaptured_inputs\u001b[0m\u001b[0;34m,\u001b[0m \u001b[0mcancellation_manager\u001b[0m\u001b[0;34m=\u001b[0m\u001b[0;32mNone\u001b[0m\u001b[0;34m)\u001b[0m\u001b[0;34m:\u001b[0m\u001b[0;34m\u001b[0m\u001b[0;34m\u001b[0m\u001b[0m\n",
            "\u001b[0;32m/usr/local/lib/python3.6/dist-packages/tensorflow/python/eager/function.py\u001b[0m in \u001b[0;36m_call_flat\u001b[0;34m(self, args, captured_inputs, cancellation_manager)\u001b[0m\n\u001b[1;32m   1922\u001b[0m       \u001b[0;31m# No tape is watching; skip to running the function.\u001b[0m\u001b[0;34m\u001b[0m\u001b[0;34m\u001b[0m\u001b[0;34m\u001b[0m\u001b[0m\n\u001b[1;32m   1923\u001b[0m       return self._build_call_outputs(self._inference_function.call(\n\u001b[0;32m-> 1924\u001b[0;31m           ctx, args, cancellation_manager=cancellation_manager))\n\u001b[0m\u001b[1;32m   1925\u001b[0m     forward_backward = self._select_forward_and_backward_functions(\n\u001b[1;32m   1926\u001b[0m         \u001b[0margs\u001b[0m\u001b[0;34m,\u001b[0m\u001b[0;34m\u001b[0m\u001b[0;34m\u001b[0m\u001b[0m\n",
            "\u001b[0;32m/usr/local/lib/python3.6/dist-packages/tensorflow/python/eager/function.py\u001b[0m in \u001b[0;36mcall\u001b[0;34m(self, ctx, args, cancellation_manager)\u001b[0m\n\u001b[1;32m    548\u001b[0m               \u001b[0minputs\u001b[0m\u001b[0;34m=\u001b[0m\u001b[0margs\u001b[0m\u001b[0;34m,\u001b[0m\u001b[0;34m\u001b[0m\u001b[0;34m\u001b[0m\u001b[0m\n\u001b[1;32m    549\u001b[0m               \u001b[0mattrs\u001b[0m\u001b[0;34m=\u001b[0m\u001b[0mattrs\u001b[0m\u001b[0;34m,\u001b[0m\u001b[0;34m\u001b[0m\u001b[0;34m\u001b[0m\u001b[0m\n\u001b[0;32m--> 550\u001b[0;31m               ctx=ctx)\n\u001b[0m\u001b[1;32m    551\u001b[0m         \u001b[0;32melse\u001b[0m\u001b[0;34m:\u001b[0m\u001b[0;34m\u001b[0m\u001b[0;34m\u001b[0m\u001b[0m\n\u001b[1;32m    552\u001b[0m           outputs = execute.execute_with_cancellation(\n",
            "\u001b[0;32m/usr/local/lib/python3.6/dist-packages/tensorflow/python/eager/execute.py\u001b[0m in \u001b[0;36mquick_execute\u001b[0;34m(op_name, num_outputs, inputs, attrs, ctx, name)\u001b[0m\n\u001b[1;32m     58\u001b[0m     \u001b[0mctx\u001b[0m\u001b[0;34m.\u001b[0m\u001b[0mensure_initialized\u001b[0m\u001b[0;34m(\u001b[0m\u001b[0;34m)\u001b[0m\u001b[0;34m\u001b[0m\u001b[0;34m\u001b[0m\u001b[0m\n\u001b[1;32m     59\u001b[0m     tensors = pywrap_tfe.TFE_Py_Execute(ctx._handle, device_name, op_name,\n\u001b[0;32m---> 60\u001b[0;31m                                         inputs, attrs, num_outputs)\n\u001b[0m\u001b[1;32m     61\u001b[0m   \u001b[0;32mexcept\u001b[0m \u001b[0mcore\u001b[0m\u001b[0;34m.\u001b[0m\u001b[0m_NotOkStatusException\u001b[0m \u001b[0;32mas\u001b[0m \u001b[0me\u001b[0m\u001b[0;34m:\u001b[0m\u001b[0;34m\u001b[0m\u001b[0;34m\u001b[0m\u001b[0m\n\u001b[1;32m     62\u001b[0m     \u001b[0;32mif\u001b[0m \u001b[0mname\u001b[0m \u001b[0;32mis\u001b[0m \u001b[0;32mnot\u001b[0m \u001b[0;32mNone\u001b[0m\u001b[0;34m:\u001b[0m\u001b[0;34m\u001b[0m\u001b[0;34m\u001b[0m\u001b[0m\n",
            "\u001b[0;31mKeyboardInterrupt\u001b[0m: "
          ]
        }
      ]
    },
    {
      "cell_type": "code",
      "metadata": {
        "id": "PvkjmSANUryy"
      },
      "source": [
        "pred=[pred[i][0][0] for i in range(len(pred))]"
      ],
      "execution_count": null,
      "outputs": []
    },
    {
      "cell_type": "code",
      "metadata": {
        "id": "5PVF3Fs4Urwy",
        "colab": {
          "base_uri": "https://localhost:8080/",
          "height": 661
        },
        "outputId": "7342fe76-ab29-4a71-dfde-5302836bd477"
      },
      "source": [
        "pred1p=pd.DataFrame(pred, columns = ['Prediction'])\n",
        "pred1p[\"Date\"]=date[len(X)+size+2:2*len(X)]\n",
        "pred1p.set_index('Date', inplace=True)\n",
        "\n",
        "plot_predictions(ts,pred1p)"
      ],
      "execution_count": null,
      "outputs": [
        {
          "output_type": "display_data",
          "data": {
            "text/plain": [
              "<Figure size 1440x720 with 0 Axes>"
            ]
          },
          "metadata": {
            "tags": []
          }
        },
        {
          "output_type": "display_data",
          "data": {
            "image/png": "[encoded data removed]",
            "text/plain": [
              "<Figure size 1440x720 with 1 Axes>"
            ]
          },
          "metadata": {
            "tags": [],
            "needs_background": "light"
          }
        }
      ]
    },
    {
      "cell_type": "code",
      "metadata": {
        "id": "UKajgxy4UlNd",
        "colab": {
          "base_uri": "https://localhost:8080/",
          "height": 36
        },
        "outputId": "21c04a0f-355d-49de-c167-291d9929c97f"
      },
      "source": [
        "import math\n",
        "from sklearn.metrics import mean_squared_error\n",
        "return_rmse(test[:-2],pred)"
      ],
      "execution_count": null,
      "outputs": [
        {
          "output_type": "stream",
          "text": [
            "The root mean squared error is 0.011002053571719267.\n"
          ],
          "name": "stdout"
        }
      ]
    },
    {
      "cell_type": "code",
      "metadata": {
        "id": "J7nNXQE0WK-w"
      },
      "source": [
        ""
      ],
      "execution_count": null,
      "outputs": []
    }
  ]
}